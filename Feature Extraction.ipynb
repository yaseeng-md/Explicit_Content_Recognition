{
 "cells": [
  {
   "cell_type": "code",
   "execution_count": 43,
   "id": "e7b4df04-22cf-4d12-b974-8502a7ffee5b",
   "metadata": {},
   "outputs": [],
   "source": [
    "import torch \n",
    "import os\n",
    "import numpy as np \n",
    "import cv2\n",
    "import pickle"
   ]
  },
  {
   "cell_type": "code",
   "execution_count": 7,
   "id": "292f86dd-c2f6-478b-a1e0-886e43aba70b",
   "metadata": {},
   "outputs": [],
   "source": [
    "LABELS = [\"Safe\",\"notSafe\"]\n",
    "TRAIN_PATH = \"Dataset/train/\"\n",
    "VAL_PATH = \"Dataset/val1/\"\n",
    "IMG_SIZE = 224\n",
    "BATCH_SIZE = 32\n"
   ]
  },
  {
   "cell_type": "code",
   "execution_count": 9,
   "id": "94b4eb18-d4d8-4cd7-89da-582c8b85c159",
   "metadata": {},
   "outputs": [
    {
     "data": {
      "text/plain": [
       "['notSafe', 'Safe']"
      ]
     },
     "execution_count": 9,
     "metadata": {},
     "output_type": "execute_result"
    }
   ],
   "source": [
    "os.listdir(TRAIN_PATH)"
   ]
  },
  {
   "cell_type": "code",
   "execution_count": 11,
   "id": "a455aeca-c9b4-4333-ae98-34f33f299345",
   "metadata": {},
   "outputs": [],
   "source": [
    "labels = []\n",
    "img_data = []"
   ]
  },
  {
   "cell_type": "code",
   "execution_count": 55,
   "id": "59db4169-6c35-4083-be7a-ea1988e49b88",
   "metadata": {},
   "outputs": [],
   "source": [
    "def extract_features(path):\n",
    "    img_data = [] \n",
    "    labels = []\n",
    "    for i, label in enumerate(os.listdir(path)):\n",
    "        folder_path = os.path.join(path, label)\n",
    "        for file in os.listdir(folder_path):\n",
    "            file_path = os.path.join(folder_path, file)\n",
    "            img = cv2.imread(file_path)\n",
    "            if img is None:\n",
    "                print(f\"Warning: Couldn't load image {file_path}. Skipping...\")\n",
    "                continue\n",
    "            resized_image = cv2.resize(img, (224, 224))\n",
    "            resized_image = resized_image / 255.0  \n",
    "            img_data.append(resized_image)\n",
    "            labels.append(i)\n",
    "            # break\n",
    "    return np.array(img_data),np.array(labels)\n",
    "\n",
    "# img_data ,labels= extract_features(TRAIN_PATH)"
   ]
  },
  {
   "cell_type": "code",
   "execution_count": null,
   "id": "6dbbd3d7-b4bc-4ba9-bd46-55ec7762140c",
   "metadata": {},
   "outputs": [],
   "source": [
    "img_data ,labels= extract_features(TRAIN_PATH)"
   ]
  },
  {
   "cell_type": "code",
   "execution_count": 39,
   "id": "b1d23495-03f0-4ae2-ac8a-0335d7912e43",
   "metadata": {},
   "outputs": [
    {
     "data": {
      "text/plain": [
       "(6253, 224, 224, 3)"
      ]
     },
     "execution_count": 39,
     "metadata": {},
     "output_type": "execute_result"
    }
   ],
   "source": [
    "img_data.shape"
   ]
  },
  {
   "cell_type": "code",
   "execution_count": 41,
   "id": "38d53942-1fdb-4bb2-970e-104d8f71ba2e",
   "metadata": {},
   "outputs": [
    {
     "data": {
      "text/plain": [
       "(6253,)"
      ]
     },
     "execution_count": 41,
     "metadata": {},
     "output_type": "execute_result"
    }
   ],
   "source": [
    "labels.shape"
   ]
  },
  {
   "cell_type": "code",
   "execution_count": 49,
   "id": "91302c9f-c838-4fbe-a43e-658f5470924d",
   "metadata": {},
   "outputs": [],
   "source": [
    "with open('labels.pkl', 'wb') as f:\n",
    "    pickle.dump(labels, f)\n",
    "\n",
    "with open('img_data.pkl', 'wb') as f:\n",
    "    pickle.dump(img_data, f)\n"
   ]
  },
  {
   "cell_type": "code",
   "execution_count": 63,
   "id": "79a1cbb8-4e96-49c1-ac81-60ae366938b1",
   "metadata": {},
   "outputs": [
    {
     "name": "stdout",
     "output_type": "stream",
     "text": [
      "Warning: Couldn't load image Dataset/val1/notSafe\\.DS_Store. Skipping...\n"
     ]
    }
   ],
   "source": [
    "val_img_data ,val_label= extract_features(VAL_PATH)\n"
   ]
  },
  {
   "cell_type": "code",
   "execution_count": 67,
   "id": "860d3d42-1e48-4fb5-b515-00f21bae0c58",
   "metadata": {},
   "outputs": [],
   "source": [
    "with open('val_img_data.pkl', 'wb') as f:\n",
    "    pickle.dump(val_img_data, f)\n",
    "\n",
    "with open('val_labels.pkl', 'wb') as f:\n",
    "    pickle.dump(val_label, f)"
   ]
  },
  {
   "cell_type": "code",
   "execution_count": 68,
   "id": "02d8819e-a9dd-4172-a000-e5a9ad4f8e62",
   "metadata": {},
   "outputs": [
    {
     "data": {
      "text/plain": [
       "(6221, 224, 224, 3)"
      ]
     },
     "execution_count": 68,
     "metadata": {},
     "output_type": "execute_result"
    }
   ],
   "source": [
    "val_img_data.shape"
   ]
  }
 ],
 "metadata": {
  "kernelspec": {
   "display_name": "Python 3 (ipykernel)",
   "language": "python",
   "name": "python3"
  },
  "language_info": {
   "codemirror_mode": {
    "name": "ipython",
    "version": 3
   },
   "file_extension": ".py",
   "mimetype": "text/x-python",
   "name": "python",
   "nbconvert_exporter": "python",
   "pygments_lexer": "ipython3",
   "version": "3.12.4"
  }
 },
 "nbformat": 4,
 "nbformat_minor": 5
}
