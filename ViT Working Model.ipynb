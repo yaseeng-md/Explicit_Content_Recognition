{
 "cells": [
  {
   "cell_type": "markdown",
   "id": "5a507f1d-0308-4245-974d-a25ebd8e305a",
   "metadata": {},
   "source": [
    "# Importing Requried Libraries"
   ]
  },
  {
   "cell_type": "code",
   "execution_count": 142,
   "id": "10819b54-fe69-4327-87f7-63d6571f6abc",
   "metadata": {},
   "outputs": [],
   "source": [
    "import torch \n",
    "import os\n",
    "import numpy as np \n",
    "import cv2\n",
    "from torchvision.models.vision_transformer import VisionTransformer\n",
    "from ViT import ViT\n",
    "from torch import Tensor\n",
    "from torch import nn,optim\n",
    "from torch.utils.data import DataLoader,TensorDataset\n",
    "import torch\n",
    "from torch.utils.data import DataLoader\n",
    "from tqdm import tqdm\n",
    "\n",
    "if torch.cuda.is_available():\n",
    "    device = \"cuda\"\n",
    "else:\n",
    "    device = \"cpu\""
   ]
  },
  {
   "cell_type": "markdown",
   "id": "35eb95d3-0c82-411c-8449-249267ad95d7",
   "metadata": {},
   "source": [
    "# Import Features"
   ]
  },
  {
   "cell_type": "code",
   "execution_count": 144,
   "id": "74b80120-b403-4ba9-853f-d52c2a626d5d",
   "metadata": {},
   "outputs": [],
   "source": [
    "import pickle\n",
    "with open(\"Features/img_data.pkl\", \"rb\") as f:\n",
    "    image_data = pickle.load(f)\n",
    "with open (\"Features/labels.pkl\",\"rb\") as f:\n",
    "    labels = pickle.load(f)"
   ]
  },
  {
   "cell_type": "code",
   "execution_count": 145,
   "id": "4d55a09c-e2a7-4273-95f8-4b17ceb8c2fa",
   "metadata": {},
   "outputs": [],
   "source": [
    "IMG_SIZE = 224\n",
    "BATCH_SIZE = 32\n",
    "EPOCHS = 50"
   ]
  },
  {
   "cell_type": "code",
   "execution_count": 146,
   "id": "350bc389-1e4f-43cf-969f-e52035cfb425",
   "metadata": {},
   "outputs": [
    {
     "data": {
      "text/plain": [
       "(numpy.ndarray, numpy.ndarray)"
      ]
     },
     "execution_count": 146,
     "metadata": {},
     "output_type": "execute_result"
    }
   ],
   "source": [
    "# image_data = np.array(image_data)\n",
    "# labels = np.array(labels.cpu())\n",
    "type(image_data),type(labels)"
   ]
  },
  {
   "cell_type": "code",
   "execution_count": 147,
   "id": "bdad04e6-9ae4-4f2f-9853-d95384fe1051",
   "metadata": {},
   "outputs": [
    {
     "data": {
      "text/plain": [
       "((6253, 224, 224, 3), (6253,))"
      ]
     },
     "execution_count": 147,
     "metadata": {},
     "output_type": "execute_result"
    }
   ],
   "source": [
    "image_data.shape, labels.shape"
   ]
  },
  {
   "cell_type": "code",
   "execution_count": 148,
   "id": "72179451-a97d-4946-884e-356287f477fa",
   "metadata": {},
   "outputs": [
    {
     "data": {
      "text/plain": [
       "array([0, 0, 0, ..., 1, 1, 1])"
      ]
     },
     "execution_count": 148,
     "metadata": {},
     "output_type": "execute_result"
    }
   ],
   "source": [
    "labels"
   ]
  },
  {
   "cell_type": "markdown",
   "id": "b2f77afa-5a5f-45cd-b22c-c0206a12ce86",
   "metadata": {},
   "source": [
    "### Take only 1000 Image Data"
   ]
  },
  {
   "cell_type": "code",
   "execution_count": 150,
   "id": "c454aad3-a383-4fc3-9687-fa0dc4283e24",
   "metadata": {},
   "outputs": [
    {
     "data": {
      "text/plain": [
       "((1000, 224, 224, 3), (1000,))"
      ]
     },
     "execution_count": 150,
     "metadata": {},
     "output_type": "execute_result"
    }
   ],
   "source": [
    "first_500_images = image_data[:500]\n",
    "last_500_images = image_data[-500:]\n",
    "images_subset = np.concatenate([first_500_images,last_500_images],axis = 0)\n",
    "\n",
    "first_500_labels = labels[:500]\n",
    "last_500_labels = labels[-500:]\n",
    "labels_subset = np.concatenate([first_500_labels,last_500_labels],axis = 0)\n",
    "\n",
    "images_subset.shape, labels_subset.shape"
   ]
  },
  {
   "cell_type": "code",
   "execution_count": 151,
   "id": "68d6edf3-0479-4426-adf1-f31569074a9e",
   "metadata": {},
   "outputs": [
    {
     "data": {
      "text/plain": [
       "((1000, 224, 224, 3), (1000,))"
      ]
     },
     "execution_count": 151,
     "metadata": {},
     "output_type": "execute_result"
    }
   ],
   "source": [
    "val_first_500_images = image_data[500:1000]\n",
    "val_last_500_images = image_data[-1000:-500]\n",
    "val_images_subset = np.concatenate([val_first_500_images,val_last_500_images],axis = 0)\n",
    "\n",
    "val_first_500_labels = labels[500:1000]\n",
    "val_last_500_labels = labels[-1000:-500]\n",
    "val_labels_subset = np.concatenate([val_first_500_labels, val_last_500_labels], axis=0)\n",
    "\n",
    "val_images_subset.shape, val_labels_subset.shape"
   ]
  },
  {
   "cell_type": "code",
   "execution_count": 152,
   "id": "9dd00888-a40f-4f53-aa2e-d7769fbc3d23",
   "metadata": {},
   "outputs": [],
   "source": [
    "image_data_tensors = Tensor(images_subset)\n",
    "labels_tensors = Tensor(labels_subset)\n",
    "val_image_data_tensors = Tensor(val_images_subset)\n",
    "val_labels_tensors = Tensor(val_labels_subset)\n",
    "\n"
   ]
  },
  {
   "cell_type": "code",
   "execution_count": 153,
   "id": "1aff632f-e786-480a-8a38-bd32f625c139",
   "metadata": {},
   "outputs": [],
   "source": [
    "import torch.nn.functional as F\n",
    "labels_tensors = labels_tensors.to(torch.int64)\n",
    "labels_tensors = F.one_hot(labels_tensors, num_classes=2).float()\n",
    "val_labels_tensors = val_labels_tensors.to(torch.int64)\n",
    "val_labels_tensors = F.one_hot(val_labels_tensors,num_classes=2).float()"
   ]
  },
  {
   "cell_type": "markdown",
   "id": "887bd4b4-3d54-435f-86c8-76062d9af698",
   "metadata": {},
   "source": [
    "One Hot Encoding "
   ]
  },
  {
   "cell_type": "code",
   "execution_count": 155,
   "id": "7759bd2a-0fb4-4efd-a690-ee6f44aa6114",
   "metadata": {},
   "outputs": [
    {
     "data": {
      "text/plain": [
       "(tensor([[1., 0.],\n",
       "         [1., 0.],\n",
       "         [1., 0.],\n",
       "         ...,\n",
       "         [0., 1.],\n",
       "         [0., 1.],\n",
       "         [0., 1.]]),\n",
       " tensor([[1., 0.],\n",
       "         [1., 0.],\n",
       "         [1., 0.],\n",
       "         ...,\n",
       "         [0., 1.],\n",
       "         [0., 1.],\n",
       "         [0., 1.]]))"
      ]
     },
     "execution_count": 155,
     "metadata": {},
     "output_type": "execute_result"
    }
   ],
   "source": [
    "labels_tensors, val_labels_tensors"
   ]
  },
  {
   "cell_type": "code",
   "execution_count": 156,
   "id": "5f8de98f-c7af-4395-b1e5-2e71bc671f50",
   "metadata": {},
   "outputs": [
    {
     "name": "stdout",
     "output_type": "stream",
     "text": [
      "Shape of the Image Data : torch.Size([1000, 224, 224, 3])\n",
      "Shape of the Labels : torch.Size([1000, 2])\n",
      "--------------------------------------------------------\n",
      "Shape of the Validation Image Data : torch.Size([1000, 224, 224, 3])\n",
      "Shape of the Validation Labels : torch.Size([1000, 2])\n"
     ]
    }
   ],
   "source": [
    "print(f\"Shape of the Image Data : {image_data_tensors.shape}\")\n",
    "print(f\"Shape of the Labels : {labels_tensors.shape}\")\n",
    "print(\"--------------------------------------------------------\")\n",
    "print(f\"Shape of the Validation Image Data : {val_image_data_tensors.shape}\")\n",
    "print(f\"Shape of the Validation Labels : {val_labels_tensors.shape}\")\n"
   ]
  },
  {
   "cell_type": "markdown",
   "id": "45423ac3-09ad-4511-9b6f-93742b53e429",
   "metadata": {},
   "source": [
    "# Loading the Input to GPU"
   ]
  },
  {
   "cell_type": "code",
   "execution_count": 158,
   "id": "79073a92-65c4-4beb-b1b9-fd6a1cce1c72",
   "metadata": {},
   "outputs": [],
   "source": [
    "inputs = image_data_tensors.to(device)\n",
    "labels = labels_tensors.to(device)"
   ]
  },
  {
   "cell_type": "markdown",
   "id": "88921943-5b5f-4526-8d85-81e1d2554b35",
   "metadata": {},
   "source": [
    "# Model Training:"
   ]
  },
  {
   "cell_type": "markdown",
   "id": "36ff4e9a-58aa-4e86-8583-ff0c870f89e9",
   "metadata": {},
   "source": [
    "### Creating Model"
   ]
  },
  {
   "cell_type": "code",
   "execution_count": 161,
   "id": "3ed5b5c2-60f7-4aca-992e-d7e8c289e3b3",
   "metadata": {},
   "outputs": [
    {
     "data": {
      "text/plain": [
       "Sequential(\n",
       "  (0): VisionTransformer(\n",
       "    (conv_proj): Conv2d(3, 128, kernel_size=(16, 16), stride=(16, 16))\n",
       "    (encoder): Encoder(\n",
       "      (dropout): Dropout(p=0.2, inplace=False)\n",
       "      (layers): Sequential(\n",
       "        (encoder_layer_0): EncoderBlock(\n",
       "          (ln_1): LayerNorm((128,), eps=1e-06, elementwise_affine=True)\n",
       "          (self_attention): MultiheadAttention(\n",
       "            (out_proj): NonDynamicallyQuantizableLinear(in_features=128, out_features=128, bias=True)\n",
       "          )\n",
       "          (dropout): Dropout(p=0.2, inplace=False)\n",
       "          (ln_2): LayerNorm((128,), eps=1e-06, elementwise_affine=True)\n",
       "          (mlp): MLPBlock(\n",
       "            (0): Linear(in_features=128, out_features=256, bias=True)\n",
       "            (1): GELU(approximate='none')\n",
       "            (2): Dropout(p=0.2, inplace=False)\n",
       "            (3): Linear(in_features=256, out_features=128, bias=True)\n",
       "            (4): Dropout(p=0.2, inplace=False)\n",
       "          )\n",
       "        )\n",
       "        (encoder_layer_1): EncoderBlock(\n",
       "          (ln_1): LayerNorm((128,), eps=1e-06, elementwise_affine=True)\n",
       "          (self_attention): MultiheadAttention(\n",
       "            (out_proj): NonDynamicallyQuantizableLinear(in_features=128, out_features=128, bias=True)\n",
       "          )\n",
       "          (dropout): Dropout(p=0.2, inplace=False)\n",
       "          (ln_2): LayerNorm((128,), eps=1e-06, elementwise_affine=True)\n",
       "          (mlp): MLPBlock(\n",
       "            (0): Linear(in_features=128, out_features=256, bias=True)\n",
       "            (1): GELU(approximate='none')\n",
       "            (2): Dropout(p=0.2, inplace=False)\n",
       "            (3): Linear(in_features=256, out_features=128, bias=True)\n",
       "            (4): Dropout(p=0.2, inplace=False)\n",
       "          )\n",
       "        )\n",
       "      )\n",
       "      (ln): LayerNorm((128,), eps=1e-06, elementwise_affine=True)\n",
       "    )\n",
       "    (heads): Sequential(\n",
       "      (head): Linear(in_features=128, out_features=1000, bias=True)\n",
       "    )\n",
       "  )\n",
       "  (1): Linear(in_features=1000, out_features=2, bias=True)\n",
       "  (2): Sigmoid()\n",
       ")"
      ]
     },
     "execution_count": 161,
     "metadata": {},
     "output_type": "execute_result"
    }
   ],
   "source": [
    "vit_model = VisionTransformer(\n",
    "    image_size=224,\n",
    "    patch_size=16,\n",
    "    num_layers=2,\n",
    "    num_heads=2,\n",
    "    hidden_dim=128,\n",
    "    mlp_dim=256,\n",
    "    dropout=0.20,\n",
    ")\n",
    "seq_vit_model = torch.nn.Sequential(\n",
    "    vit_model,\n",
    "    nn.Linear(1000,2),\n",
    "    nn.Sigmoid()\n",
    ")\n",
    "seq_vit_model.to(device)\n",
    "seq_vit_model"
   ]
  },
  {
   "cell_type": "markdown",
   "id": "383fa09e-9aee-4c00-9bb7-910d03d60b7d",
   "metadata": {},
   "source": [
    "### Defining Loss Functions"
   ]
  },
  {
   "cell_type": "code",
   "execution_count": 165,
   "id": "372e4b1d-af7c-4304-baaa-7d2fd2ff6d41",
   "metadata": {},
   "outputs": [],
   "source": [
    "LOSS_FUNCTION = torch.nn.CrossEntropyLoss()\n",
    "OPTIMIZER = torch.optim.Adam(seq_vit_model.parameters(), lr=1e-4)"
   ]
  },
  {
   "cell_type": "markdown",
   "id": "0dabedc9-e48a-4618-8237-e000da7b4a8f",
   "metadata": {},
   "source": [
    "### Creating the DataLoader"
   ]
  },
  {
   "cell_type": "code",
   "execution_count": 167,
   "id": "d0b684ed-3e31-4062-a4bc-c4a7c94ffbf0",
   "metadata": {},
   "outputs": [],
   "source": [
    "dataset = torch.utils.data.TensorDataset(image_data_tensors, labels_tensors)\n",
    "data_loader = torch.utils.data.DataLoader(dataset, batch_size=BATCH_SIZE, shuffle=True)"
   ]
  },
  {
   "cell_type": "code",
   "execution_count": 168,
   "id": "f18123e9-e3f1-4152-9101-f59b8252b10c",
   "metadata": {},
   "outputs": [],
   "source": [
    "val_dataset = torch.utils.data.TensorDataset(val_image_data_tensors, val_labels_tensors)\n",
    "val_data_loader = torch.utils.data.DataLoader(val_dataset, batch_size = BATCH_SIZE, shuffle = True)"
   ]
  },
  {
   "cell_type": "markdown",
   "id": "40bde59c-5e15-4820-8865-8ce7532b29ae",
   "metadata": {},
   "source": [
    "# Model Training"
   ]
  },
  {
   "cell_type": "code",
   "execution_count": 170,
   "id": "d651dd24-8007-44fb-94eb-4e15661f3bb7",
   "metadata": {},
   "outputs": [
    {
     "name": "stderr",
     "output_type": "stream",
     "text": [
      "Epoch 1/50 [Train]: 100%|██████████| 32/32 [00:01<00:00, 24.25it/s]\n",
      "Epoch 1/50 [Val]: 100%|██████████| 32/32 [00:00<00:00, 38.15it/s]\n"
     ]
    },
    {
     "name": "stdout",
     "output_type": "stream",
     "text": [
      "Epoch 1/50, Train Loss: 0.6618, Train Acc: 0.6570, Val Loss: 0.6797, Val Acc: 0.5750\n"
     ]
    },
    {
     "name": "stderr",
     "output_type": "stream",
     "text": [
      "Epoch 2/50 [Train]: 100%|██████████| 32/32 [00:00<00:00, 34.20it/s]\n",
      "Epoch 2/50 [Val]: 100%|██████████| 32/32 [00:00<00:00, 67.91it/s]\n"
     ]
    },
    {
     "name": "stdout",
     "output_type": "stream",
     "text": [
      "Epoch 2/50, Train Loss: 0.5422, Train Acc: 0.7690, Val Loss: 0.7079, Val Acc: 0.5810\n"
     ]
    },
    {
     "name": "stderr",
     "output_type": "stream",
     "text": [
      "Epoch 3/50 [Train]: 100%|██████████| 32/32 [00:00<00:00, 39.76it/s]\n",
      "Epoch 3/50 [Val]: 100%|██████████| 32/32 [00:00<00:00, 74.78it/s]\n"
     ]
    },
    {
     "name": "stdout",
     "output_type": "stream",
     "text": [
      "Epoch 3/50, Train Loss: 0.5103, Train Acc: 0.7910, Val Loss: 0.7033, Val Acc: 0.5900\n"
     ]
    },
    {
     "name": "stderr",
     "output_type": "stream",
     "text": [
      "Epoch 4/50 [Train]: 100%|██████████| 32/32 [00:00<00:00, 37.31it/s]\n",
      "Epoch 4/50 [Val]: 100%|██████████| 32/32 [00:00<00:00, 69.55it/s]\n"
     ]
    },
    {
     "name": "stdout",
     "output_type": "stream",
     "text": [
      "Epoch 4/50, Train Loss: 0.4931, Train Acc: 0.8120, Val Loss: 0.7302, Val Acc: 0.5730\n"
     ]
    },
    {
     "name": "stderr",
     "output_type": "stream",
     "text": [
      "Epoch 5/50 [Train]: 100%|██████████| 32/32 [00:00<00:00, 40.51it/s]\n",
      "Epoch 5/50 [Val]: 100%|██████████| 32/32 [00:00<00:00, 81.51it/s]\n"
     ]
    },
    {
     "name": "stdout",
     "output_type": "stream",
     "text": [
      "Epoch 5/50, Train Loss: 0.4828, Train Acc: 0.8260, Val Loss: 0.7465, Val Acc: 0.5550\n"
     ]
    },
    {
     "name": "stderr",
     "output_type": "stream",
     "text": [
      "Epoch 6/50 [Train]: 100%|██████████| 32/32 [00:00<00:00, 41.46it/s]\n",
      "Epoch 6/50 [Val]: 100%|██████████| 32/32 [00:00<00:00, 73.31it/s]\n"
     ]
    },
    {
     "name": "stdout",
     "output_type": "stream",
     "text": [
      "Epoch 6/50, Train Loss: 0.4816, Train Acc: 0.8360, Val Loss: 0.7301, Val Acc: 0.5770\n"
     ]
    },
    {
     "name": "stderr",
     "output_type": "stream",
     "text": [
      "Epoch 7/50 [Train]: 100%|██████████| 32/32 [00:01<00:00, 31.74it/s]\n",
      "Epoch 7/50 [Val]: 100%|██████████| 32/32 [00:00<00:00, 66.47it/s]\n"
     ]
    },
    {
     "name": "stdout",
     "output_type": "stream",
     "text": [
      "Epoch 7/50, Train Loss: 0.4877, Train Acc: 0.8280, Val Loss: 0.7729, Val Acc: 0.5360\n"
     ]
    },
    {
     "name": "stderr",
     "output_type": "stream",
     "text": [
      "Epoch 8/50 [Train]: 100%|██████████| 32/32 [00:00<00:00, 34.73it/s]\n",
      "Epoch 8/50 [Val]: 100%|██████████| 32/32 [00:00<00:00, 65.55it/s]\n"
     ]
    },
    {
     "name": "stdout",
     "output_type": "stream",
     "text": [
      "Epoch 8/50, Train Loss: 0.4773, Train Acc: 0.8380, Val Loss: 0.7178, Val Acc: 0.5920\n"
     ]
    },
    {
     "name": "stderr",
     "output_type": "stream",
     "text": [
      "Epoch 9/50 [Train]: 100%|██████████| 32/32 [00:00<00:00, 36.04it/s]\n",
      "Epoch 9/50 [Val]: 100%|██████████| 32/32 [00:00<00:00, 68.21it/s]\n"
     ]
    },
    {
     "name": "stdout",
     "output_type": "stream",
     "text": [
      "Epoch 9/50, Train Loss: 0.4873, Train Acc: 0.8240, Val Loss: 0.7732, Val Acc: 0.5390\n"
     ]
    },
    {
     "name": "stderr",
     "output_type": "stream",
     "text": [
      "Epoch 10/50 [Train]: 100%|██████████| 32/32 [00:00<00:00, 36.30it/s]\n",
      "Epoch 10/50 [Val]: 100%|██████████| 32/32 [00:00<00:00, 60.82it/s]\n"
     ]
    },
    {
     "name": "stdout",
     "output_type": "stream",
     "text": [
      "Epoch 10/50, Train Loss: 0.4729, Train Acc: 0.8340, Val Loss: 0.7318, Val Acc: 0.5770\n"
     ]
    },
    {
     "name": "stderr",
     "output_type": "stream",
     "text": [
      "Epoch 11/50 [Train]: 100%|██████████| 32/32 [00:00<00:00, 33.24it/s]\n",
      "Epoch 11/50 [Val]: 100%|██████████| 32/32 [00:00<00:00, 63.10it/s]\n"
     ]
    },
    {
     "name": "stdout",
     "output_type": "stream",
     "text": [
      "Epoch 11/50, Train Loss: 0.4737, Train Acc: 0.8380, Val Loss: 0.7139, Val Acc: 0.5940\n"
     ]
    },
    {
     "name": "stderr",
     "output_type": "stream",
     "text": [
      "Epoch 12/50 [Train]: 100%|██████████| 32/32 [00:00<00:00, 38.33it/s]\n",
      "Epoch 12/50 [Val]: 100%|██████████| 32/32 [00:00<00:00, 68.18it/s]\n"
     ]
    },
    {
     "name": "stdout",
     "output_type": "stream",
     "text": [
      "Epoch 12/50, Train Loss: 0.4763, Train Acc: 0.8310, Val Loss: 0.7314, Val Acc: 0.5830\n"
     ]
    },
    {
     "name": "stderr",
     "output_type": "stream",
     "text": [
      "Epoch 13/50 [Train]: 100%|██████████| 32/32 [00:00<00:00, 33.73it/s]\n",
      "Epoch 13/50 [Val]: 100%|██████████| 32/32 [00:00<00:00, 66.03it/s]\n"
     ]
    },
    {
     "name": "stdout",
     "output_type": "stream",
     "text": [
      "Epoch 13/50, Train Loss: 0.4710, Train Acc: 0.8370, Val Loss: 0.7280, Val Acc: 0.5850\n"
     ]
    },
    {
     "name": "stderr",
     "output_type": "stream",
     "text": [
      "Epoch 14/50 [Train]: 100%|██████████| 32/32 [00:00<00:00, 35.41it/s]\n",
      "Epoch 14/50 [Val]: 100%|██████████| 32/32 [00:00<00:00, 66.57it/s]\n"
     ]
    },
    {
     "name": "stdout",
     "output_type": "stream",
     "text": [
      "Epoch 14/50, Train Loss: 0.4724, Train Acc: 0.8430, Val Loss: 0.7363, Val Acc: 0.5740\n"
     ]
    },
    {
     "name": "stderr",
     "output_type": "stream",
     "text": [
      "Epoch 15/50 [Train]: 100%|██████████| 32/32 [00:00<00:00, 35.55it/s]\n",
      "Epoch 15/50 [Val]: 100%|██████████| 32/32 [00:00<00:00, 62.93it/s]\n"
     ]
    },
    {
     "name": "stdout",
     "output_type": "stream",
     "text": [
      "Epoch 15/50, Train Loss: 0.4792, Train Acc: 0.8330, Val Loss: 0.7407, Val Acc: 0.5660\n"
     ]
    },
    {
     "name": "stderr",
     "output_type": "stream",
     "text": [
      "Epoch 16/50 [Train]: 100%|██████████| 32/32 [00:00<00:00, 36.03it/s]\n",
      "Epoch 16/50 [Val]: 100%|██████████| 32/32 [00:00<00:00, 82.17it/s]\n"
     ]
    },
    {
     "name": "stdout",
     "output_type": "stream",
     "text": [
      "Epoch 16/50, Train Loss: 0.4666, Train Acc: 0.8410, Val Loss: 0.7488, Val Acc: 0.5620\n"
     ]
    },
    {
     "name": "stderr",
     "output_type": "stream",
     "text": [
      "Epoch 17/50 [Train]: 100%|██████████| 32/32 [00:00<00:00, 42.38it/s]\n",
      "Epoch 17/50 [Val]: 100%|██████████| 32/32 [00:00<00:00, 81.19it/s]\n"
     ]
    },
    {
     "name": "stdout",
     "output_type": "stream",
     "text": [
      "Epoch 17/50, Train Loss: 0.4702, Train Acc: 0.8420, Val Loss: 0.7043, Val Acc: 0.6030\n"
     ]
    },
    {
     "name": "stderr",
     "output_type": "stream",
     "text": [
      "Epoch 18/50 [Train]: 100%|██████████| 32/32 [00:00<00:00, 34.20it/s]\n",
      "Epoch 18/50 [Val]: 100%|██████████| 32/32 [00:00<00:00, 65.41it/s]\n"
     ]
    },
    {
     "name": "stdout",
     "output_type": "stream",
     "text": [
      "Epoch 18/50, Train Loss: 0.4667, Train Acc: 0.8460, Val Loss: 0.6585, Val Acc: 0.6410\n"
     ]
    },
    {
     "name": "stderr",
     "output_type": "stream",
     "text": [
      "Epoch 19/50 [Train]: 100%|██████████| 32/32 [00:00<00:00, 35.98it/s]\n",
      "Epoch 19/50 [Val]: 100%|██████████| 32/32 [00:00<00:00, 60.95it/s]\n"
     ]
    },
    {
     "name": "stdout",
     "output_type": "stream",
     "text": [
      "Epoch 19/50, Train Loss: 0.4741, Train Acc: 0.8390, Val Loss: 0.7438, Val Acc: 0.5700\n"
     ]
    },
    {
     "name": "stderr",
     "output_type": "stream",
     "text": [
      "Epoch 20/50 [Train]: 100%|██████████| 32/32 [00:00<00:00, 34.57it/s]\n",
      "Epoch 20/50 [Val]: 100%|██████████| 32/32 [00:00<00:00, 73.20it/s]\n"
     ]
    },
    {
     "name": "stdout",
     "output_type": "stream",
     "text": [
      "Epoch 20/50, Train Loss: 0.4633, Train Acc: 0.8510, Val Loss: 0.7049, Val Acc: 0.6000\n"
     ]
    },
    {
     "name": "stderr",
     "output_type": "stream",
     "text": [
      "Epoch 21/50 [Train]: 100%|██████████| 32/32 [00:00<00:00, 35.32it/s]\n",
      "Epoch 21/50 [Val]: 100%|██████████| 32/32 [00:00<00:00, 64.98it/s]\n"
     ]
    },
    {
     "name": "stdout",
     "output_type": "stream",
     "text": [
      "Epoch 21/50, Train Loss: 0.4764, Train Acc: 0.8420, Val Loss: 0.7341, Val Acc: 0.5760\n"
     ]
    },
    {
     "name": "stderr",
     "output_type": "stream",
     "text": [
      "Epoch 22/50 [Train]: 100%|██████████| 32/32 [00:00<00:00, 33.93it/s]\n",
      "Epoch 22/50 [Val]: 100%|██████████| 32/32 [00:00<00:00, 66.12it/s]\n"
     ]
    },
    {
     "name": "stdout",
     "output_type": "stream",
     "text": [
      "Epoch 22/50, Train Loss: 0.4578, Train Acc: 0.8500, Val Loss: 0.7160, Val Acc: 0.5910\n"
     ]
    },
    {
     "name": "stderr",
     "output_type": "stream",
     "text": [
      "Epoch 23/50 [Train]: 100%|██████████| 32/32 [00:00<00:00, 34.75it/s]\n",
      "Epoch 23/50 [Val]: 100%|██████████| 32/32 [00:00<00:00, 72.88it/s]\n"
     ]
    },
    {
     "name": "stdout",
     "output_type": "stream",
     "text": [
      "Epoch 23/50, Train Loss: 0.4531, Train Acc: 0.8550, Val Loss: 0.7208, Val Acc: 0.5920\n"
     ]
    },
    {
     "name": "stderr",
     "output_type": "stream",
     "text": [
      "Epoch 24/50 [Train]: 100%|██████████| 32/32 [00:00<00:00, 36.14it/s]\n",
      "Epoch 24/50 [Val]: 100%|██████████| 32/32 [00:00<00:00, 66.48it/s]\n"
     ]
    },
    {
     "name": "stdout",
     "output_type": "stream",
     "text": [
      "Epoch 24/50, Train Loss: 0.4589, Train Acc: 0.8540, Val Loss: 0.7104, Val Acc: 0.5910\n"
     ]
    },
    {
     "name": "stderr",
     "output_type": "stream",
     "text": [
      "Epoch 25/50 [Train]: 100%|██████████| 32/32 [00:00<00:00, 33.61it/s]\n",
      "Epoch 25/50 [Val]: 100%|██████████| 32/32 [00:00<00:00, 62.04it/s]\n"
     ]
    },
    {
     "name": "stdout",
     "output_type": "stream",
     "text": [
      "Epoch 25/50, Train Loss: 0.4501, Train Acc: 0.8620, Val Loss: 0.7360, Val Acc: 0.5680\n"
     ]
    },
    {
     "name": "stderr",
     "output_type": "stream",
     "text": [
      "Epoch 26/50 [Train]: 100%|██████████| 32/32 [00:00<00:00, 34.05it/s]\n",
      "Epoch 26/50 [Val]: 100%|██████████| 32/32 [00:00<00:00, 63.49it/s]\n"
     ]
    },
    {
     "name": "stdout",
     "output_type": "stream",
     "text": [
      "Epoch 26/50, Train Loss: 0.4522, Train Acc: 0.8610, Val Loss: 0.7075, Val Acc: 0.6030\n"
     ]
    },
    {
     "name": "stderr",
     "output_type": "stream",
     "text": [
      "Epoch 27/50 [Train]: 100%|██████████| 32/32 [00:00<00:00, 33.56it/s]\n",
      "Epoch 27/50 [Val]: 100%|██████████| 32/32 [00:00<00:00, 60.10it/s]\n"
     ]
    },
    {
     "name": "stdout",
     "output_type": "stream",
     "text": [
      "Epoch 27/50, Train Loss: 0.4518, Train Acc: 0.8600, Val Loss: 0.7278, Val Acc: 0.5810\n"
     ]
    },
    {
     "name": "stderr",
     "output_type": "stream",
     "text": [
      "Epoch 28/50 [Train]: 100%|██████████| 32/32 [00:00<00:00, 41.77it/s]\n",
      "Epoch 28/50 [Val]: 100%|██████████| 32/32 [00:00<00:00, 63.85it/s]\n"
     ]
    },
    {
     "name": "stdout",
     "output_type": "stream",
     "text": [
      "Epoch 28/50, Train Loss: 0.4431, Train Acc: 0.8640, Val Loss: 0.7205, Val Acc: 0.5930\n"
     ]
    },
    {
     "name": "stderr",
     "output_type": "stream",
     "text": [
      "Epoch 29/50 [Train]: 100%|██████████| 32/32 [00:00<00:00, 40.93it/s]\n",
      "Epoch 29/50 [Val]: 100%|██████████| 32/32 [00:00<00:00, 69.41it/s]\n"
     ]
    },
    {
     "name": "stdout",
     "output_type": "stream",
     "text": [
      "Epoch 29/50, Train Loss: 0.4443, Train Acc: 0.8700, Val Loss: 0.7297, Val Acc: 0.5750\n"
     ]
    },
    {
     "name": "stderr",
     "output_type": "stream",
     "text": [
      "Epoch 30/50 [Train]: 100%|██████████| 32/32 [00:00<00:00, 35.36it/s]\n",
      "Epoch 30/50 [Val]: 100%|██████████| 32/32 [00:00<00:00, 63.17it/s]\n"
     ]
    },
    {
     "name": "stdout",
     "output_type": "stream",
     "text": [
      "Epoch 30/50, Train Loss: 0.4417, Train Acc: 0.8700, Val Loss: 0.7147, Val Acc: 0.5900\n"
     ]
    },
    {
     "name": "stderr",
     "output_type": "stream",
     "text": [
      "Epoch 31/50 [Train]: 100%|██████████| 32/32 [00:00<00:00, 34.53it/s]\n",
      "Epoch 31/50 [Val]: 100%|██████████| 32/32 [00:00<00:00, 66.30it/s]\n"
     ]
    },
    {
     "name": "stdout",
     "output_type": "stream",
     "text": [
      "Epoch 31/50, Train Loss: 0.4308, Train Acc: 0.8780, Val Loss: 0.7145, Val Acc: 0.5990\n"
     ]
    },
    {
     "name": "stderr",
     "output_type": "stream",
     "text": [
      "Epoch 32/50 [Train]: 100%|██████████| 32/32 [00:00<00:00, 37.33it/s]\n",
      "Epoch 32/50 [Val]: 100%|██████████| 32/32 [00:00<00:00, 62.82it/s]\n"
     ]
    },
    {
     "name": "stdout",
     "output_type": "stream",
     "text": [
      "Epoch 32/50, Train Loss: 0.4362, Train Acc: 0.8730, Val Loss: 0.7423, Val Acc: 0.5710\n"
     ]
    },
    {
     "name": "stderr",
     "output_type": "stream",
     "text": [
      "Epoch 33/50 [Train]: 100%|██████████| 32/32 [00:00<00:00, 35.24it/s]\n",
      "Epoch 33/50 [Val]: 100%|██████████| 32/32 [00:00<00:00, 69.39it/s]\n"
     ]
    },
    {
     "name": "stdout",
     "output_type": "stream",
     "text": [
      "Epoch 33/50, Train Loss: 0.4441, Train Acc: 0.8690, Val Loss: 0.7377, Val Acc: 0.5610\n"
     ]
    },
    {
     "name": "stderr",
     "output_type": "stream",
     "text": [
      "Epoch 34/50 [Train]: 100%|██████████| 32/32 [00:00<00:00, 34.05it/s]\n",
      "Epoch 34/50 [Val]: 100%|██████████| 32/32 [00:00<00:00, 61.27it/s]\n"
     ]
    },
    {
     "name": "stdout",
     "output_type": "stream",
     "text": [
      "Epoch 34/50, Train Loss: 0.4459, Train Acc: 0.8560, Val Loss: 0.7382, Val Acc: 0.5690\n"
     ]
    },
    {
     "name": "stderr",
     "output_type": "stream",
     "text": [
      "Epoch 35/50 [Train]: 100%|██████████| 32/32 [00:00<00:00, 34.56it/s]\n",
      "Epoch 35/50 [Val]: 100%|██████████| 32/32 [00:00<00:00, 73.81it/s]\n"
     ]
    },
    {
     "name": "stdout",
     "output_type": "stream",
     "text": [
      "Epoch 35/50, Train Loss: 0.4336, Train Acc: 0.8790, Val Loss: 0.7313, Val Acc: 0.5760\n"
     ]
    },
    {
     "name": "stderr",
     "output_type": "stream",
     "text": [
      "Epoch 36/50 [Train]: 100%|██████████| 32/32 [00:00<00:00, 34.21it/s]\n",
      "Epoch 36/50 [Val]: 100%|██████████| 32/32 [00:00<00:00, 65.86it/s]\n"
     ]
    },
    {
     "name": "stdout",
     "output_type": "stream",
     "text": [
      "Epoch 36/50, Train Loss: 0.4260, Train Acc: 0.8820, Val Loss: 0.7227, Val Acc: 0.5910\n"
     ]
    },
    {
     "name": "stderr",
     "output_type": "stream",
     "text": [
      "Epoch 37/50 [Train]: 100%|██████████| 32/32 [00:00<00:00, 32.40it/s]\n",
      "Epoch 37/50 [Val]: 100%|██████████| 32/32 [00:00<00:00, 67.80it/s]\n"
     ]
    },
    {
     "name": "stdout",
     "output_type": "stream",
     "text": [
      "Epoch 37/50, Train Loss: 0.4287, Train Acc: 0.8850, Val Loss: 0.7352, Val Acc: 0.5790\n"
     ]
    },
    {
     "name": "stderr",
     "output_type": "stream",
     "text": [
      "Epoch 38/50 [Train]: 100%|██████████| 32/32 [00:00<00:00, 34.37it/s]\n",
      "Epoch 38/50 [Val]: 100%|██████████| 32/32 [00:00<00:00, 67.57it/s]\n"
     ]
    },
    {
     "name": "stdout",
     "output_type": "stream",
     "text": [
      "Epoch 38/50, Train Loss: 0.4193, Train Acc: 0.8920, Val Loss: 0.7197, Val Acc: 0.5890\n"
     ]
    },
    {
     "name": "stderr",
     "output_type": "stream",
     "text": [
      "Epoch 39/50 [Train]: 100%|██████████| 32/32 [00:00<00:00, 36.52it/s]\n",
      "Epoch 39/50 [Val]: 100%|██████████| 32/32 [00:00<00:00, 84.10it/s]\n"
     ]
    },
    {
     "name": "stdout",
     "output_type": "stream",
     "text": [
      "Epoch 39/50, Train Loss: 0.4302, Train Acc: 0.8850, Val Loss: 0.6916, Val Acc: 0.6080\n"
     ]
    },
    {
     "name": "stderr",
     "output_type": "stream",
     "text": [
      "Epoch 40/50 [Train]: 100%|██████████| 32/32 [00:00<00:00, 40.28it/s]\n",
      "Epoch 40/50 [Val]: 100%|██████████| 32/32 [00:00<00:00, 87.85it/s]\n"
     ]
    },
    {
     "name": "stdout",
     "output_type": "stream",
     "text": [
      "Epoch 40/50, Train Loss: 0.4260, Train Acc: 0.8880, Val Loss: 0.7480, Val Acc: 0.5580\n"
     ]
    },
    {
     "name": "stderr",
     "output_type": "stream",
     "text": [
      "Epoch 41/50 [Train]: 100%|██████████| 32/32 [00:00<00:00, 35.39it/s]\n",
      "Epoch 41/50 [Val]: 100%|██████████| 32/32 [00:00<00:00, 70.84it/s]\n"
     ]
    },
    {
     "name": "stdout",
     "output_type": "stream",
     "text": [
      "Epoch 41/50, Train Loss: 0.4250, Train Acc: 0.8910, Val Loss: 0.7133, Val Acc: 0.5970\n"
     ]
    },
    {
     "name": "stderr",
     "output_type": "stream",
     "text": [
      "Epoch 42/50 [Train]: 100%|██████████| 32/32 [00:00<00:00, 35.65it/s]\n",
      "Epoch 42/50 [Val]: 100%|██████████| 32/32 [00:00<00:00, 65.49it/s]\n"
     ]
    },
    {
     "name": "stdout",
     "output_type": "stream",
     "text": [
      "Epoch 42/50, Train Loss: 0.4215, Train Acc: 0.8870, Val Loss: 0.7450, Val Acc: 0.5660\n"
     ]
    },
    {
     "name": "stderr",
     "output_type": "stream",
     "text": [
      "Epoch 43/50 [Train]: 100%|██████████| 32/32 [00:00<00:00, 32.57it/s]\n",
      "Epoch 43/50 [Val]: 100%|██████████| 32/32 [00:00<00:00, 68.62it/s]\n"
     ]
    },
    {
     "name": "stdout",
     "output_type": "stream",
     "text": [
      "Epoch 43/50, Train Loss: 0.4215, Train Acc: 0.8910, Val Loss: 0.7313, Val Acc: 0.5850\n"
     ]
    },
    {
     "name": "stderr",
     "output_type": "stream",
     "text": [
      "Epoch 44/50 [Train]: 100%|██████████| 32/32 [00:00<00:00, 35.25it/s]\n",
      "Epoch 44/50 [Val]: 100%|██████████| 32/32 [00:00<00:00, 62.96it/s]\n"
     ]
    },
    {
     "name": "stdout",
     "output_type": "stream",
     "text": [
      "Epoch 44/50, Train Loss: 0.4170, Train Acc: 0.8930, Val Loss: 0.7178, Val Acc: 0.5890\n"
     ]
    },
    {
     "name": "stderr",
     "output_type": "stream",
     "text": [
      "Epoch 45/50 [Train]: 100%|██████████| 32/32 [00:00<00:00, 32.75it/s]\n",
      "Epoch 45/50 [Val]: 100%|██████████| 32/32 [00:00<00:00, 67.80it/s]\n"
     ]
    },
    {
     "name": "stdout",
     "output_type": "stream",
     "text": [
      "Epoch 45/50, Train Loss: 0.4203, Train Acc: 0.8920, Val Loss: 0.7114, Val Acc: 0.5910\n"
     ]
    },
    {
     "name": "stderr",
     "output_type": "stream",
     "text": [
      "Epoch 46/50 [Train]: 100%|██████████| 32/32 [00:00<00:00, 33.74it/s]\n",
      "Epoch 46/50 [Val]: 100%|██████████| 32/32 [00:00<00:00, 75.32it/s]\n"
     ]
    },
    {
     "name": "stdout",
     "output_type": "stream",
     "text": [
      "Epoch 46/50, Train Loss: 0.4275, Train Acc: 0.8860, Val Loss: 0.7611, Val Acc: 0.5550\n"
     ]
    },
    {
     "name": "stderr",
     "output_type": "stream",
     "text": [
      "Epoch 47/50 [Train]: 100%|██████████| 32/32 [00:00<00:00, 34.70it/s]\n",
      "Epoch 47/50 [Val]: 100%|██████████| 32/32 [00:00<00:00, 69.39it/s]\n"
     ]
    },
    {
     "name": "stdout",
     "output_type": "stream",
     "text": [
      "Epoch 47/50, Train Loss: 0.4208, Train Acc: 0.8960, Val Loss: 0.7471, Val Acc: 0.5690\n"
     ]
    },
    {
     "name": "stderr",
     "output_type": "stream",
     "text": [
      "Epoch 48/50 [Train]: 100%|██████████| 32/32 [00:00<00:00, 37.78it/s]\n",
      "Epoch 48/50 [Val]: 100%|██████████| 32/32 [00:00<00:00, 66.08it/s]\n"
     ]
    },
    {
     "name": "stdout",
     "output_type": "stream",
     "text": [
      "Epoch 48/50, Train Loss: 0.4255, Train Acc: 0.8860, Val Loss: 0.7418, Val Acc: 0.5720\n"
     ]
    },
    {
     "name": "stderr",
     "output_type": "stream",
     "text": [
      "Epoch 49/50 [Train]: 100%|██████████| 32/32 [00:00<00:00, 34.15it/s]\n",
      "Epoch 49/50 [Val]: 100%|██████████| 32/32 [00:00<00:00, 64.53it/s]\n"
     ]
    },
    {
     "name": "stdout",
     "output_type": "stream",
     "text": [
      "Epoch 49/50, Train Loss: 0.4206, Train Acc: 0.8920, Val Loss: 0.7084, Val Acc: 0.6010\n"
     ]
    },
    {
     "name": "stderr",
     "output_type": "stream",
     "text": [
      "Epoch 50/50 [Train]: 100%|██████████| 32/32 [00:00<00:00, 34.39it/s]\n",
      "Epoch 50/50 [Val]: 100%|██████████| 32/32 [00:00<00:00, 63.76it/s]\n"
     ]
    },
    {
     "name": "stdout",
     "output_type": "stream",
     "text": [
      "Epoch 50/50, Train Loss: 0.4117, Train Acc: 0.8990, Val Loss: 0.7353, Val Acc: 0.5750\n"
     ]
    }
   ],
   "source": [
    "history = {\"train_loss\": [], \"val_loss\": [], \"train_acc\": [], \"val_acc\": []}\n",
    "\n",
    "for epoch in range(EPOCHS):\n",
    "    # Training phase\n",
    "    seq_vit_model.train()\n",
    "    train_loss = 0.0\n",
    "    correct_train = 0\n",
    "    total_train = 0\n",
    "\n",
    "    for images, labels in tqdm(data_loader, desc=f\"Epoch {epoch+1}/{EPOCHS} [Train]\"):\n",
    "        images, labels = images.to(device), labels.to(device)\n",
    "        images = images.permute(0, 3, 1, 2)  # Ensure correct shape for model input\n",
    "\n",
    "        OPTIMIZER.zero_grad()  # Clear gradients\n",
    "        outputs = seq_vit_model(images)  # Forward pass\n",
    "\n",
    "        # Compute loss\n",
    "        loss = LOSS_FUNCTION(outputs, labels)\n",
    "        loss.backward()  # Backpropagation\n",
    "        OPTIMIZER.step()  # Update weights\n",
    "\n",
    "        # Update training metrics\n",
    "        train_loss += loss.item()\n",
    "        correct_train += (outputs.argmax(dim=1) == labels.argmax(dim=1)).sum().item()\n",
    "        total_train += labels.size(0)\n",
    "\n",
    "    train_loss /= len(data_loader)\n",
    "    train_acc = correct_train / total_train\n",
    "    history[\"train_loss\"].append(train_loss)\n",
    "    history[\"train_acc\"].append(train_acc)\n",
    "\n",
    "    # Validation phase\n",
    "    seq_vit_model.eval()\n",
    "    val_loss = 0.0\n",
    "    correct_val = 0\n",
    "    total_val = 0\n",
    "\n",
    "    with torch.no_grad():\n",
    "        for images, labels in tqdm(val_data_loader, desc=f\"Epoch {epoch+1}/{EPOCHS} [Val]\"):\n",
    "            images, labels = images.to(device), labels.to(device)\n",
    "            images = images.permute(0, 3, 1, 2)\n",
    "\n",
    "            outputs = seq_vit_model(images)\n",
    "\n",
    "            # Compute loss\n",
    "            loss = LOSS_FUNCTION(outputs, labels)\n",
    "            val_loss += loss.item()\n",
    "\n",
    "            # Update validation metrics\n",
    "            correct_val += (outputs.argmax(dim=1) == labels.argmax(dim=1)).sum().item()\n",
    "            total_val += labels.size(0)\n",
    "\n",
    "    val_loss /= len(val_data_loader)\n",
    "    val_acc = correct_val / total_val\n",
    "    history[\"val_loss\"].append(val_loss)\n",
    "    history[\"val_acc\"].append(val_acc)\n",
    "\n",
    "    # Print epoch summary\n",
    "    print(f\"Epoch {epoch+1}/{EPOCHS}, Train Loss: {train_loss:.4f}, Train Acc: {train_acc:.4f}, \"\n",
    "          f\"Val Loss: {val_loss:.4f}, Val Acc: {val_acc:.4f}\")\n"
   ]
  },
  {
   "cell_type": "code",
   "execution_count": 193,
   "id": "9aec79aa-3f49-434d-9a1c-1fc21177e851",
   "metadata": {},
   "outputs": [],
   "source": [
    "import pandas as pd"
   ]
  },
  {
   "cell_type": "code",
   "execution_count": 208,
   "id": "e3215674-1ed9-410e-8824-c6c76f585034",
   "metadata": {},
   "outputs": [
    {
     "data": {
      "text/html": [
       "<div>\n",
       "<style scoped>\n",
       "    .dataframe tbody tr th:only-of-type {\n",
       "        vertical-align: middle;\n",
       "    }\n",
       "\n",
       "    .dataframe tbody tr th {\n",
       "        vertical-align: top;\n",
       "    }\n",
       "\n",
       "    .dataframe thead th {\n",
       "        text-align: right;\n",
       "    }\n",
       "</style>\n",
       "<table border=\"1\" class=\"dataframe\">\n",
       "  <thead>\n",
       "    <tr style=\"text-align: right;\">\n",
       "      <th></th>\n",
       "      <th>train_loss</th>\n",
       "      <th>val_loss</th>\n",
       "      <th>train_acc</th>\n",
       "      <th>val_acc</th>\n",
       "      <th>Epochs</th>\n",
       "    </tr>\n",
       "  </thead>\n",
       "  <tbody>\n",
       "    <tr>\n",
       "      <th>0</th>\n",
       "      <td>0.661801</td>\n",
       "      <td>0.679652</td>\n",
       "      <td>0.657</td>\n",
       "      <td>0.575</td>\n",
       "      <td>1</td>\n",
       "    </tr>\n",
       "    <tr>\n",
       "      <th>1</th>\n",
       "      <td>0.542184</td>\n",
       "      <td>0.707945</td>\n",
       "      <td>0.769</td>\n",
       "      <td>0.581</td>\n",
       "      <td>2</td>\n",
       "    </tr>\n",
       "    <tr>\n",
       "      <th>2</th>\n",
       "      <td>0.510345</td>\n",
       "      <td>0.703255</td>\n",
       "      <td>0.791</td>\n",
       "      <td>0.590</td>\n",
       "      <td>3</td>\n",
       "    </tr>\n",
       "    <tr>\n",
       "      <th>3</th>\n",
       "      <td>0.493115</td>\n",
       "      <td>0.730166</td>\n",
       "      <td>0.812</td>\n",
       "      <td>0.573</td>\n",
       "      <td>4</td>\n",
       "    </tr>\n",
       "    <tr>\n",
       "      <th>4</th>\n",
       "      <td>0.482779</td>\n",
       "      <td>0.746490</td>\n",
       "      <td>0.826</td>\n",
       "      <td>0.555</td>\n",
       "      <td>5</td>\n",
       "    </tr>\n",
       "    <tr>\n",
       "      <th>5</th>\n",
       "      <td>0.481643</td>\n",
       "      <td>0.730058</td>\n",
       "      <td>0.836</td>\n",
       "      <td>0.577</td>\n",
       "      <td>6</td>\n",
       "    </tr>\n",
       "    <tr>\n",
       "      <th>6</th>\n",
       "      <td>0.487741</td>\n",
       "      <td>0.772891</td>\n",
       "      <td>0.828</td>\n",
       "      <td>0.536</td>\n",
       "      <td>7</td>\n",
       "    </tr>\n",
       "    <tr>\n",
       "      <th>7</th>\n",
       "      <td>0.477323</td>\n",
       "      <td>0.717794</td>\n",
       "      <td>0.838</td>\n",
       "      <td>0.592</td>\n",
       "      <td>8</td>\n",
       "    </tr>\n",
       "    <tr>\n",
       "      <th>8</th>\n",
       "      <td>0.487341</td>\n",
       "      <td>0.773172</td>\n",
       "      <td>0.824</td>\n",
       "      <td>0.539</td>\n",
       "      <td>9</td>\n",
       "    </tr>\n",
       "    <tr>\n",
       "      <th>9</th>\n",
       "      <td>0.472890</td>\n",
       "      <td>0.731769</td>\n",
       "      <td>0.834</td>\n",
       "      <td>0.577</td>\n",
       "      <td>10</td>\n",
       "    </tr>\n",
       "    <tr>\n",
       "      <th>10</th>\n",
       "      <td>0.473708</td>\n",
       "      <td>0.713861</td>\n",
       "      <td>0.838</td>\n",
       "      <td>0.594</td>\n",
       "      <td>11</td>\n",
       "    </tr>\n",
       "    <tr>\n",
       "      <th>11</th>\n",
       "      <td>0.476343</td>\n",
       "      <td>0.731438</td>\n",
       "      <td>0.831</td>\n",
       "      <td>0.583</td>\n",
       "      <td>12</td>\n",
       "    </tr>\n",
       "    <tr>\n",
       "      <th>12</th>\n",
       "      <td>0.471032</td>\n",
       "      <td>0.727973</td>\n",
       "      <td>0.837</td>\n",
       "      <td>0.585</td>\n",
       "      <td>13</td>\n",
       "    </tr>\n",
       "    <tr>\n",
       "      <th>13</th>\n",
       "      <td>0.472395</td>\n",
       "      <td>0.736265</td>\n",
       "      <td>0.843</td>\n",
       "      <td>0.574</td>\n",
       "      <td>14</td>\n",
       "    </tr>\n",
       "    <tr>\n",
       "      <th>14</th>\n",
       "      <td>0.479222</td>\n",
       "      <td>0.740691</td>\n",
       "      <td>0.833</td>\n",
       "      <td>0.566</td>\n",
       "      <td>15</td>\n",
       "    </tr>\n",
       "    <tr>\n",
       "      <th>15</th>\n",
       "      <td>0.466573</td>\n",
       "      <td>0.748782</td>\n",
       "      <td>0.841</td>\n",
       "      <td>0.562</td>\n",
       "      <td>16</td>\n",
       "    </tr>\n",
       "    <tr>\n",
       "      <th>16</th>\n",
       "      <td>0.470170</td>\n",
       "      <td>0.704296</td>\n",
       "      <td>0.842</td>\n",
       "      <td>0.603</td>\n",
       "      <td>17</td>\n",
       "    </tr>\n",
       "    <tr>\n",
       "      <th>17</th>\n",
       "      <td>0.466699</td>\n",
       "      <td>0.658455</td>\n",
       "      <td>0.846</td>\n",
       "      <td>0.641</td>\n",
       "      <td>18</td>\n",
       "    </tr>\n",
       "    <tr>\n",
       "      <th>18</th>\n",
       "      <td>0.474106</td>\n",
       "      <td>0.743756</td>\n",
       "      <td>0.839</td>\n",
       "      <td>0.570</td>\n",
       "      <td>19</td>\n",
       "    </tr>\n",
       "    <tr>\n",
       "      <th>19</th>\n",
       "      <td>0.463337</td>\n",
       "      <td>0.704857</td>\n",
       "      <td>0.851</td>\n",
       "      <td>0.600</td>\n",
       "      <td>20</td>\n",
       "    </tr>\n",
       "    <tr>\n",
       "      <th>20</th>\n",
       "      <td>0.476358</td>\n",
       "      <td>0.734140</td>\n",
       "      <td>0.842</td>\n",
       "      <td>0.576</td>\n",
       "      <td>21</td>\n",
       "    </tr>\n",
       "    <tr>\n",
       "      <th>21</th>\n",
       "      <td>0.457804</td>\n",
       "      <td>0.716044</td>\n",
       "      <td>0.850</td>\n",
       "      <td>0.591</td>\n",
       "      <td>22</td>\n",
       "    </tr>\n",
       "    <tr>\n",
       "      <th>22</th>\n",
       "      <td>0.453124</td>\n",
       "      <td>0.720822</td>\n",
       "      <td>0.855</td>\n",
       "      <td>0.592</td>\n",
       "      <td>23</td>\n",
       "    </tr>\n",
       "    <tr>\n",
       "      <th>23</th>\n",
       "      <td>0.458943</td>\n",
       "      <td>0.710392</td>\n",
       "      <td>0.854</td>\n",
       "      <td>0.591</td>\n",
       "      <td>24</td>\n",
       "    </tr>\n",
       "    <tr>\n",
       "      <th>24</th>\n",
       "      <td>0.450131</td>\n",
       "      <td>0.735954</td>\n",
       "      <td>0.862</td>\n",
       "      <td>0.568</td>\n",
       "      <td>25</td>\n",
       "    </tr>\n",
       "    <tr>\n",
       "      <th>25</th>\n",
       "      <td>0.452176</td>\n",
       "      <td>0.707487</td>\n",
       "      <td>0.861</td>\n",
       "      <td>0.603</td>\n",
       "      <td>26</td>\n",
       "    </tr>\n",
       "    <tr>\n",
       "      <th>26</th>\n",
       "      <td>0.451767</td>\n",
       "      <td>0.727814</td>\n",
       "      <td>0.860</td>\n",
       "      <td>0.581</td>\n",
       "      <td>27</td>\n",
       "    </tr>\n",
       "    <tr>\n",
       "      <th>27</th>\n",
       "      <td>0.443119</td>\n",
       "      <td>0.720460</td>\n",
       "      <td>0.864</td>\n",
       "      <td>0.593</td>\n",
       "      <td>28</td>\n",
       "    </tr>\n",
       "    <tr>\n",
       "      <th>28</th>\n",
       "      <td>0.444263</td>\n",
       "      <td>0.729681</td>\n",
       "      <td>0.870</td>\n",
       "      <td>0.575</td>\n",
       "      <td>29</td>\n",
       "    </tr>\n",
       "    <tr>\n",
       "      <th>29</th>\n",
       "      <td>0.441709</td>\n",
       "      <td>0.714677</td>\n",
       "      <td>0.870</td>\n",
       "      <td>0.590</td>\n",
       "      <td>30</td>\n",
       "    </tr>\n",
       "    <tr>\n",
       "      <th>30</th>\n",
       "      <td>0.430791</td>\n",
       "      <td>0.714532</td>\n",
       "      <td>0.878</td>\n",
       "      <td>0.599</td>\n",
       "      <td>31</td>\n",
       "    </tr>\n",
       "    <tr>\n",
       "      <th>31</th>\n",
       "      <td>0.436228</td>\n",
       "      <td>0.742326</td>\n",
       "      <td>0.873</td>\n",
       "      <td>0.571</td>\n",
       "      <td>32</td>\n",
       "    </tr>\n",
       "    <tr>\n",
       "      <th>32</th>\n",
       "      <td>0.444080</td>\n",
       "      <td>0.737728</td>\n",
       "      <td>0.869</td>\n",
       "      <td>0.561</td>\n",
       "      <td>33</td>\n",
       "    </tr>\n",
       "    <tr>\n",
       "      <th>33</th>\n",
       "      <td>0.445862</td>\n",
       "      <td>0.738232</td>\n",
       "      <td>0.856</td>\n",
       "      <td>0.569</td>\n",
       "      <td>34</td>\n",
       "    </tr>\n",
       "    <tr>\n",
       "      <th>34</th>\n",
       "      <td>0.433561</td>\n",
       "      <td>0.731277</td>\n",
       "      <td>0.879</td>\n",
       "      <td>0.576</td>\n",
       "      <td>35</td>\n",
       "    </tr>\n",
       "    <tr>\n",
       "      <th>35</th>\n",
       "      <td>0.425985</td>\n",
       "      <td>0.722719</td>\n",
       "      <td>0.882</td>\n",
       "      <td>0.591</td>\n",
       "      <td>36</td>\n",
       "    </tr>\n",
       "    <tr>\n",
       "      <th>36</th>\n",
       "      <td>0.428691</td>\n",
       "      <td>0.735198</td>\n",
       "      <td>0.885</td>\n",
       "      <td>0.579</td>\n",
       "      <td>37</td>\n",
       "    </tr>\n",
       "    <tr>\n",
       "      <th>37</th>\n",
       "      <td>0.419279</td>\n",
       "      <td>0.719691</td>\n",
       "      <td>0.892</td>\n",
       "      <td>0.589</td>\n",
       "      <td>38</td>\n",
       "    </tr>\n",
       "    <tr>\n",
       "      <th>38</th>\n",
       "      <td>0.430223</td>\n",
       "      <td>0.691554</td>\n",
       "      <td>0.885</td>\n",
       "      <td>0.608</td>\n",
       "      <td>39</td>\n",
       "    </tr>\n",
       "    <tr>\n",
       "      <th>39</th>\n",
       "      <td>0.426020</td>\n",
       "      <td>0.748037</td>\n",
       "      <td>0.888</td>\n",
       "      <td>0.558</td>\n",
       "      <td>40</td>\n",
       "    </tr>\n",
       "    <tr>\n",
       "      <th>40</th>\n",
       "      <td>0.425041</td>\n",
       "      <td>0.713348</td>\n",
       "      <td>0.891</td>\n",
       "      <td>0.597</td>\n",
       "      <td>41</td>\n",
       "    </tr>\n",
       "    <tr>\n",
       "      <th>41</th>\n",
       "      <td>0.421451</td>\n",
       "      <td>0.744966</td>\n",
       "      <td>0.887</td>\n",
       "      <td>0.566</td>\n",
       "      <td>42</td>\n",
       "    </tr>\n",
       "    <tr>\n",
       "      <th>42</th>\n",
       "      <td>0.421523</td>\n",
       "      <td>0.731254</td>\n",
       "      <td>0.891</td>\n",
       "      <td>0.585</td>\n",
       "      <td>43</td>\n",
       "    </tr>\n",
       "    <tr>\n",
       "      <th>43</th>\n",
       "      <td>0.416995</td>\n",
       "      <td>0.717839</td>\n",
       "      <td>0.893</td>\n",
       "      <td>0.589</td>\n",
       "      <td>44</td>\n",
       "    </tr>\n",
       "    <tr>\n",
       "      <th>44</th>\n",
       "      <td>0.420259</td>\n",
       "      <td>0.711385</td>\n",
       "      <td>0.892</td>\n",
       "      <td>0.591</td>\n",
       "      <td>45</td>\n",
       "    </tr>\n",
       "    <tr>\n",
       "      <th>45</th>\n",
       "      <td>0.427543</td>\n",
       "      <td>0.761051</td>\n",
       "      <td>0.886</td>\n",
       "      <td>0.555</td>\n",
       "      <td>46</td>\n",
       "    </tr>\n",
       "    <tr>\n",
       "      <th>46</th>\n",
       "      <td>0.420800</td>\n",
       "      <td>0.747094</td>\n",
       "      <td>0.896</td>\n",
       "      <td>0.569</td>\n",
       "      <td>47</td>\n",
       "    </tr>\n",
       "    <tr>\n",
       "      <th>47</th>\n",
       "      <td>0.425467</td>\n",
       "      <td>0.741838</td>\n",
       "      <td>0.886</td>\n",
       "      <td>0.572</td>\n",
       "      <td>48</td>\n",
       "    </tr>\n",
       "    <tr>\n",
       "      <th>48</th>\n",
       "      <td>0.420607</td>\n",
       "      <td>0.708367</td>\n",
       "      <td>0.892</td>\n",
       "      <td>0.601</td>\n",
       "      <td>49</td>\n",
       "    </tr>\n",
       "    <tr>\n",
       "      <th>49</th>\n",
       "      <td>0.411681</td>\n",
       "      <td>0.735308</td>\n",
       "      <td>0.899</td>\n",
       "      <td>0.575</td>\n",
       "      <td>50</td>\n",
       "    </tr>\n",
       "  </tbody>\n",
       "</table>\n",
       "</div>"
      ],
      "text/plain": [
       "    train_loss  val_loss  train_acc  val_acc  Epochs\n",
       "0     0.661801  0.679652      0.657    0.575       1\n",
       "1     0.542184  0.707945      0.769    0.581       2\n",
       "2     0.510345  0.703255      0.791    0.590       3\n",
       "3     0.493115  0.730166      0.812    0.573       4\n",
       "4     0.482779  0.746490      0.826    0.555       5\n",
       "5     0.481643  0.730058      0.836    0.577       6\n",
       "6     0.487741  0.772891      0.828    0.536       7\n",
       "7     0.477323  0.717794      0.838    0.592       8\n",
       "8     0.487341  0.773172      0.824    0.539       9\n",
       "9     0.472890  0.731769      0.834    0.577      10\n",
       "10    0.473708  0.713861      0.838    0.594      11\n",
       "11    0.476343  0.731438      0.831    0.583      12\n",
       "12    0.471032  0.727973      0.837    0.585      13\n",
       "13    0.472395  0.736265      0.843    0.574      14\n",
       "14    0.479222  0.740691      0.833    0.566      15\n",
       "15    0.466573  0.748782      0.841    0.562      16\n",
       "16    0.470170  0.704296      0.842    0.603      17\n",
       "17    0.466699  0.658455      0.846    0.641      18\n",
       "18    0.474106  0.743756      0.839    0.570      19\n",
       "19    0.463337  0.704857      0.851    0.600      20\n",
       "20    0.476358  0.734140      0.842    0.576      21\n",
       "21    0.457804  0.716044      0.850    0.591      22\n",
       "22    0.453124  0.720822      0.855    0.592      23\n",
       "23    0.458943  0.710392      0.854    0.591      24\n",
       "24    0.450131  0.735954      0.862    0.568      25\n",
       "25    0.452176  0.707487      0.861    0.603      26\n",
       "26    0.451767  0.727814      0.860    0.581      27\n",
       "27    0.443119  0.720460      0.864    0.593      28\n",
       "28    0.444263  0.729681      0.870    0.575      29\n",
       "29    0.441709  0.714677      0.870    0.590      30\n",
       "30    0.430791  0.714532      0.878    0.599      31\n",
       "31    0.436228  0.742326      0.873    0.571      32\n",
       "32    0.444080  0.737728      0.869    0.561      33\n",
       "33    0.445862  0.738232      0.856    0.569      34\n",
       "34    0.433561  0.731277      0.879    0.576      35\n",
       "35    0.425985  0.722719      0.882    0.591      36\n",
       "36    0.428691  0.735198      0.885    0.579      37\n",
       "37    0.419279  0.719691      0.892    0.589      38\n",
       "38    0.430223  0.691554      0.885    0.608      39\n",
       "39    0.426020  0.748037      0.888    0.558      40\n",
       "40    0.425041  0.713348      0.891    0.597      41\n",
       "41    0.421451  0.744966      0.887    0.566      42\n",
       "42    0.421523  0.731254      0.891    0.585      43\n",
       "43    0.416995  0.717839      0.893    0.589      44\n",
       "44    0.420259  0.711385      0.892    0.591      45\n",
       "45    0.427543  0.761051      0.886    0.555      46\n",
       "46    0.420800  0.747094      0.896    0.569      47\n",
       "47    0.425467  0.741838      0.886    0.572      48\n",
       "48    0.420607  0.708367      0.892    0.601      49\n",
       "49    0.411681  0.735308      0.899    0.575      50"
      ]
     },
     "execution_count": 208,
     "metadata": {},
     "output_type": "execute_result"
    }
   ],
   "source": [
    "vit_model_history = pd.DataFrame(history)\n",
    "epochs = np.arange(1,51).reshape(-1,1)\n",
    "vit_model_history[\"Epochs\"] = epochs\n",
    "vit_model_history"
   ]
  },
  {
   "cell_type": "code",
   "execution_count": 210,
   "id": "e5f848e5-c3fd-40d7-99f6-1ecfd0cd63d1",
   "metadata": {},
   "outputs": [],
   "source": [
    "vit_model_history.to_csv(\"History/vit_model_history_pytorch.csv\")\n"
   ]
  },
  {
   "cell_type": "code",
   "execution_count": 212,
   "id": "2d1dab7e-2a5d-4ad0-b735-6f53051e3db4",
   "metadata": {},
   "outputs": [],
   "source": [
    "torch.save(seq_vit_model, \"ViT Model Pytorch.pth\")"
   ]
  },
  {
   "cell_type": "code",
   "execution_count": 214,
   "id": "5230f646-34b0-4e16-ab4f-2ee8bc676178",
   "metadata": {},
   "outputs": [],
   "source": [
    "import matplotlib.pyplot as plt\n",
    "import seaborn as sns"
   ]
  },
  {
   "cell_type": "code",
   "execution_count": 236,
   "id": "4c06ba1d-c282-4455-9282-55305f5755b7",
   "metadata": {},
   "outputs": [
    {
     "data": {
      "image/png": "[encoded data removed]",
      "text/plain": [
       "<Figure size 640x480 with 1 Axes>"
      ]
     },
     "metadata": {},
     "output_type": "display_data"
    }
   ],
   "source": [
    "sns.lineplot(x = vit_model_history[\"Epochs\"],y = vit_model_history[\"train_acc\"])\n",
    "plt.ylabel(\"Accuacy\")\n",
    "plt.show()"
   ]
  },
  {
   "cell_type": "code",
   "execution_count": 240,
   "id": "b500d8fc-0282-42ce-9250-6075888f2019",
   "metadata": {},
   "outputs": [
    {
     "data": {
      "image/png": "[encoded data removed]",
      "text/plain": [
       "<Figure size 640x480 with 1 Axes>"
      ]
     },
     "metadata": {},
     "output_type": "display_data"
    }
   ],
   "source": [
    "sns.lineplot(x = vit_model_history[\"Epochs\"],y = vit_model_history[\"train_loss\"])\n",
    "plt.ylabel(\"Loss\")\n",
    "plt.show()"
   ]
  }
 ],
 "metadata": {
  "kernelspec": {
   "display_name": "Python 3 (ipykernel)",
   "language": "python",
   "name": "python3"
  },
  "language_info": {
   "codemirror_mode": {
    "name": "ipython",
    "version": 3
   },
   "file_extension": ".py",
   "mimetype": "text/x-python",
   "name": "python",
   "nbconvert_exporter": "python",
   "pygments_lexer": "ipython3",
   "version": "3.12.4"
  }
 },
 "nbformat": 4,
 "nbformat_minor": 5
}
