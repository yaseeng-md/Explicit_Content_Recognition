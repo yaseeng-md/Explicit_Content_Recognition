{
 "cells": [
  {
   "cell_type": "code",
   "execution_count": 1,
   "id": "e999f3b2-6030-4067-9e45-65dcee87dab7",
   "metadata": {},
   "outputs": [],
   "source": [
    "import torch \n",
    "import os\n",
    "import numpy as np \n",
    "import cv2\n",
    "from torchvision.models.vision_transformer import VisionTransformer\n",
    "from ViT import ViT\n",
    "from torch import Tensor\n",
    "from torch import nn,optim\n",
    "from torch.utils.data import DataLoader,TensorDataset\n",
    "import torch\n",
    "from torch.utils.data import DataLoader\n",
    "from tqdm import tqdm\n",
    "\n",
    "if torch.cuda.is_available():\n",
    "    device = \"cuda\"\n",
    "else:\n",
    "    device = \"cpu\""
   ]
  },
  {
   "cell_type": "code",
   "execution_count": 2,
   "id": "212f5ed7-2f6b-4620-a7cc-bc6264432402",
   "metadata": {},
   "outputs": [],
   "source": [
    "import pickle\n",
    "with open(\"Features/img_data.pkl\", \"rb\") as f:\n",
    "    image_data = pickle.load(f)\n",
    "with open (\"Features/labels.pkl\",\"rb\") as f:\n",
    "    labels = pickle.load(f)\n"
   ]
  },
  {
   "cell_type": "code",
   "execution_count": 3,
   "id": "1a105062-816a-4a5b-a5f2-2bb1c89a1152",
   "metadata": {},
   "outputs": [],
   "source": [
    "IMG_SIZE = 224\n",
    "BATCH_SIZE = 32\n",
    "EPOCHS = 50"
   ]
  },
  {
   "cell_type": "code",
   "execution_count": 4,
   "id": "496cea97-90bd-473a-b6bf-ccb7e3b7c8d0",
   "metadata": {},
   "outputs": [
    {
     "data": {
      "text/plain": [
       "((1000, 224, 224, 3), (1000,))"
      ]
     },
     "execution_count": 4,
     "metadata": {},
     "output_type": "execute_result"
    }
   ],
   "source": [
    "first_500_images = image_data[:500]\n",
    "last_500_images = image_data[-500:]\n",
    "images_subset = np.concatenate([first_500_images,last_500_images],axis = 0)\n",
    "\n",
    "first_500_labels = labels[:500]\n",
    "last_500_labels = labels[-500:]\n",
    "labels_subset = np.concatenate([first_500_labels,last_500_labels],axis = 0)\n",
    "\n",
    "images_subset.shape, labels_subset.shape"
   ]
  },
  {
   "cell_type": "code",
   "execution_count": 5,
   "id": "9285fb5a-5e5a-4964-af18-9cc9918cbaf7",
   "metadata": {},
   "outputs": [
    {
     "data": {
      "text/plain": [
       "((1000, 224, 224, 3), (1000,))"
      ]
     },
     "execution_count": 5,
     "metadata": {},
     "output_type": "execute_result"
    }
   ],
   "source": [
    "val_first_500_images = image_data[500:1000]\n",
    "val_last_500_images = image_data[-1000:-500]\n",
    "val_images_subset = np.concatenate([val_first_500_images,val_last_500_images],axis = 0)\n",
    "\n",
    "val_first_500_labels = labels[500:1000]\n",
    "val_last_500_labels = labels[-1000:-500]\n",
    "val_labels_subset = np.concatenate([val_first_500_labels, val_last_500_labels], axis=0)\n",
    "\n",
    "val_images_subset.shape, val_labels_subset.shape"
   ]
  },
  {
   "cell_type": "code",
   "execution_count": 6,
   "id": "619c9a88-fcf4-4eae-9efe-69ac8fad8459",
   "metadata": {},
   "outputs": [],
   "source": [
    "image_data_tensors = Tensor(images_subset)\n",
    "labels_tensors = Tensor(labels_subset)\n",
    "val_image_data_tensors = Tensor(val_images_subset)\n",
    "val_labels_tensors = Tensor(val_labels_subset)"
   ]
  },
  {
   "cell_type": "code",
   "execution_count": 7,
   "id": "470f8909-c00e-4863-a6a3-3568b867b073",
   "metadata": {},
   "outputs": [],
   "source": [
    "import torch.nn.functional as F\n",
    "labels_tensors = labels_tensors.to(torch.int64)\n",
    "labels_tensors = F.one_hot(labels_tensors, num_classes=2).float()\n",
    "val_labels_tensors = val_labels_tensors.to(torch.int64)\n",
    "val_labels_tensors = F.one_hot(val_labels_tensors,num_classes=2).float()"
   ]
  },
  {
   "cell_type": "code",
   "execution_count": 8,
   "id": "3203987f-fce9-404e-9d0b-a04f44bb8f53",
   "metadata": {},
   "outputs": [
    {
     "data": {
      "text/plain": [
       "(tensor([[1., 0.],\n",
       "         [1., 0.],\n",
       "         [1., 0.],\n",
       "         ...,\n",
       "         [0., 1.],\n",
       "         [0., 1.],\n",
       "         [0., 1.]]),\n",
       " tensor([[1., 0.],\n",
       "         [1., 0.],\n",
       "         [1., 0.],\n",
       "         ...,\n",
       "         [0., 1.],\n",
       "         [0., 1.],\n",
       "         [0., 1.]]))"
      ]
     },
     "execution_count": 8,
     "metadata": {},
     "output_type": "execute_result"
    }
   ],
   "source": [
    "labels_tensors, val_labels_tensors"
   ]
  },
  {
   "cell_type": "code",
   "execution_count": 9,
   "id": "b9474ceb-b2de-49f9-a4f4-cd0fee074fd3",
   "metadata": {},
   "outputs": [
    {
     "name": "stdout",
     "output_type": "stream",
     "text": [
      "Shape of the Image Data : torch.Size([1000, 224, 224, 3])\n",
      "Shape of the Labels : torch.Size([1000, 2])\n",
      "--------------------------------------------------------\n",
      "Shape of the Validation Image Data : torch.Size([1000, 224, 224, 3])\n",
      "Shape of the Validation Labels : torch.Size([1000, 2])\n"
     ]
    }
   ],
   "source": [
    "print(f\"Shape of the Image Data : {image_data_tensors.shape}\")\n",
    "print(f\"Shape of the Labels : {labels_tensors.shape}\")\n",
    "print(\"--------------------------------------------------------\")\n",
    "print(f\"Shape of the Validation Image Data : {val_image_data_tensors.shape}\")\n",
    "print(f\"Shape of the Validation Labels : {val_labels_tensors.shape}\")\n"
   ]
  },
  {
   "cell_type": "code",
   "execution_count": 10,
   "id": "1483144a-9549-4722-9ab7-9b1f0c05d5d5",
   "metadata": {},
   "outputs": [],
   "source": [
    "from ViT import ViT"
   ]
  },
  {
   "cell_type": "code",
   "execution_count": 11,
   "id": "d8caa857-f5b1-4e22-b595-d7ffa3931948",
   "metadata": {},
   "outputs": [
    {
     "data": {
      "text/plain": [
       "ViT(\n",
       "  (patch_embedding): patch_Embedding(\n",
       "    (projection): Sequential(\n",
       "      (0): Rearrange('b c (h p1) (w p2) -> b (h w) (p1 p2 c)', p1=16, p2=16)\n",
       "      (1): Linear(in_features=768, out_features=32, bias=True)\n",
       "    )\n",
       "  )\n",
       "  (layers): ModuleList(\n",
       "    (0-6): 7 x Sequential(\n",
       "      (0): ResidualAdd(\n",
       "        (fn): PreNorm(\n",
       "          (fn): Attension(\n",
       "            (attension): MultiheadAttention(\n",
       "              (out_proj): NonDynamicallyQuantizableLinear(in_features=32, out_features=32, bias=True)\n",
       "            )\n",
       "            (q): Linear(in_features=32, out_features=32, bias=True)\n",
       "            (k): Linear(in_features=32, out_features=32, bias=True)\n",
       "            (v): Linear(in_features=32, out_features=32, bias=True)\n",
       "          )\n",
       "          (norm): LayerNorm((32,), eps=1e-05, elementwise_affine=True)\n",
       "        )\n",
       "      )\n",
       "      (1): ResidualAdd(\n",
       "        (fn): PreNorm(\n",
       "          (fn): FeedForward(\n",
       "            (fc1): Linear(in_features=32, out_features=32, bias=True)\n",
       "            (gelu): GELU(approximate='none')\n",
       "            (dropout1): Dropout(p=0.1, inplace=False)\n",
       "            (fc2): Linear(in_features=32, out_features=32, bias=True)\n",
       "            (dropout2): Dropout(p=0.1, inplace=False)\n",
       "          )\n",
       "          (norm): LayerNorm((32,), eps=1e-05, elementwise_affine=True)\n",
       "        )\n",
       "      )\n",
       "    )\n",
       "  )\n",
       "  (head): Sequential(\n",
       "    (0): LayerNorm((32,), eps=1e-05, elementwise_affine=True)\n",
       "    (1): Linear(in_features=32, out_features=2, bias=True)\n",
       "  )\n",
       ")"
      ]
     },
     "execution_count": 11,
     "metadata": {},
     "output_type": "execute_result"
    }
   ],
   "source": [
    "vit_model = ViT(output_dim=2)\n",
    "vit_model.to(device)"
   ]
  },
  {
   "cell_type": "code",
   "execution_count": 12,
   "id": "5f43d65a-7a38-4c78-b565-52229bf959e4",
   "metadata": {},
   "outputs": [],
   "source": [
    "LOSS_FUNCTION = torch.nn.CrossEntropyLoss()\n",
    "OPTIMIZER = torch.optim.Adam(vit_model.parameters(), lr=1e-5)"
   ]
  },
  {
   "cell_type": "code",
   "execution_count": 13,
   "id": "019f5910-2673-4025-93b0-66a4b093cdae",
   "metadata": {},
   "outputs": [],
   "source": [
    "dataset = torch.utils.data.TensorDataset(image_data_tensors, labels_tensors)\n",
    "data_loader = torch.utils.data.DataLoader(dataset, batch_size=BATCH_SIZE, shuffle=True)"
   ]
  },
  {
   "cell_type": "code",
   "execution_count": 14,
   "id": "0268f85f-d732-4622-8a31-3beffcb06ac1",
   "metadata": {},
   "outputs": [],
   "source": [
    "val_dataset = torch.utils.data.TensorDataset(val_image_data_tensors, val_labels_tensors)\n",
    "val_data_loader = torch.utils.data.DataLoader(val_dataset, batch_size = BATCH_SIZE, shuffle = True)"
   ]
  },
  {
   "cell_type": "code",
   "execution_count": 15,
   "id": "91bce04b-623d-447b-8d56-3b7df7e2afb6",
   "metadata": {},
   "outputs": [
    {
     "name": "stderr",
     "output_type": "stream",
     "text": [
      "Epoch 1/50 [Train]: 100%|██████████| 32/32 [00:01<00:00, 23.60it/s]\n",
      "Epoch 1/50 [Val]: 100%|██████████| 32/32 [00:00<00:00, 98.91it/s]\n"
     ]
    },
    {
     "name": "stdout",
     "output_type": "stream",
     "text": [
      "Epoch 1/50, Train Loss: 0.7015, Train Acc: 0.4880, Val Loss: 0.6936, Val Acc: 0.5000\n"
     ]
    },
    {
     "name": "stderr",
     "output_type": "stream",
     "text": [
      "Epoch 2/50 [Train]: 100%|██████████| 32/32 [00:00<00:00, 42.90it/s]\n",
      "Epoch 2/50 [Val]: 100%|██████████| 32/32 [00:00<00:00, 110.90it/s]\n"
     ]
    },
    {
     "name": "stdout",
     "output_type": "stream",
     "text": [
      "Epoch 2/50, Train Loss: 0.6981, Train Acc: 0.5120, Val Loss: 0.6932, Val Acc: 0.5000\n"
     ]
    },
    {
     "name": "stderr",
     "output_type": "stream",
     "text": [
      "Epoch 3/50 [Train]: 100%|██████████| 32/32 [00:00<00:00, 42.69it/s]\n",
      "Epoch 3/50 [Val]: 100%|██████████| 32/32 [00:00<00:00, 112.77it/s]\n"
     ]
    },
    {
     "name": "stdout",
     "output_type": "stream",
     "text": [
      "Epoch 3/50, Train Loss: 0.6941, Train Acc: 0.5060, Val Loss: 0.6932, Val Acc: 0.5000\n"
     ]
    },
    {
     "name": "stderr",
     "output_type": "stream",
     "text": [
      "Epoch 4/50 [Train]: 100%|██████████| 32/32 [00:00<00:00, 42.60it/s]\n",
      "Epoch 4/50 [Val]: 100%|██████████| 32/32 [00:00<00:00, 111.83it/s]\n"
     ]
    },
    {
     "name": "stdout",
     "output_type": "stream",
     "text": [
      "Epoch 4/50, Train Loss: 0.7008, Train Acc: 0.4990, Val Loss: 0.6933, Val Acc: 0.5000\n"
     ]
    },
    {
     "name": "stderr",
     "output_type": "stream",
     "text": [
      "Epoch 5/50 [Train]: 100%|██████████| 32/32 [00:00<00:00, 43.40it/s]\n",
      "Epoch 5/50 [Val]: 100%|██████████| 32/32 [00:00<00:00, 111.78it/s]\n"
     ]
    },
    {
     "name": "stdout",
     "output_type": "stream",
     "text": [
      "Epoch 5/50, Train Loss: 0.6930, Train Acc: 0.5020, Val Loss: 0.6932, Val Acc: 0.5000\n"
     ]
    },
    {
     "name": "stderr",
     "output_type": "stream",
     "text": [
      "Epoch 6/50 [Train]: 100%|██████████| 32/32 [00:00<00:00, 43.61it/s]\n",
      "Epoch 6/50 [Val]: 100%|██████████| 32/32 [00:00<00:00, 120.87it/s]\n"
     ]
    },
    {
     "name": "stdout",
     "output_type": "stream",
     "text": [
      "Epoch 6/50, Train Loss: 0.6986, Train Acc: 0.5040, Val Loss: 0.6933, Val Acc: 0.5000\n"
     ]
    },
    {
     "name": "stderr",
     "output_type": "stream",
     "text": [
      "Epoch 7/50 [Train]: 100%|██████████| 32/32 [00:00<00:00, 45.26it/s]\n",
      "Epoch 7/50 [Val]: 100%|██████████| 32/32 [00:00<00:00, 116.90it/s]\n"
     ]
    },
    {
     "name": "stdout",
     "output_type": "stream",
     "text": [
      "Epoch 7/50, Train Loss: 0.7050, Train Acc: 0.4690, Val Loss: 0.6931, Val Acc: 0.5000\n"
     ]
    },
    {
     "name": "stderr",
     "output_type": "stream",
     "text": [
      "Epoch 8/50 [Train]: 100%|██████████| 32/32 [00:00<00:00, 45.40it/s]\n",
      "Epoch 8/50 [Val]: 100%|██████████| 32/32 [00:00<00:00, 113.64it/s]\n"
     ]
    },
    {
     "name": "stdout",
     "output_type": "stream",
     "text": [
      "Epoch 8/50, Train Loss: 0.6963, Train Acc: 0.5080, Val Loss: 0.6931, Val Acc: 0.5000\n"
     ]
    },
    {
     "name": "stderr",
     "output_type": "stream",
     "text": [
      "Epoch 9/50 [Train]: 100%|██████████| 32/32 [00:00<00:00, 45.53it/s]\n",
      "Epoch 9/50 [Val]: 100%|██████████| 32/32 [00:00<00:00, 118.59it/s]\n"
     ]
    },
    {
     "name": "stdout",
     "output_type": "stream",
     "text": [
      "Epoch 9/50, Train Loss: 0.6943, Train Acc: 0.5220, Val Loss: 0.6936, Val Acc: 0.5000\n"
     ]
    },
    {
     "name": "stderr",
     "output_type": "stream",
     "text": [
      "Epoch 10/50 [Train]: 100%|██████████| 32/32 [00:00<00:00, 45.41it/s]\n",
      "Epoch 10/50 [Val]: 100%|██████████| 32/32 [00:00<00:00, 115.98it/s]\n"
     ]
    },
    {
     "name": "stdout",
     "output_type": "stream",
     "text": [
      "Epoch 10/50, Train Loss: 0.6943, Train Acc: 0.4960, Val Loss: 0.6931, Val Acc: 0.5000\n"
     ]
    },
    {
     "name": "stderr",
     "output_type": "stream",
     "text": [
      "Epoch 11/50 [Train]: 100%|██████████| 32/32 [00:00<00:00, 44.52it/s]\n",
      "Epoch 11/50 [Val]: 100%|██████████| 32/32 [00:00<00:00, 118.18it/s]\n"
     ]
    },
    {
     "name": "stdout",
     "output_type": "stream",
     "text": [
      "Epoch 11/50, Train Loss: 0.7036, Train Acc: 0.4760, Val Loss: 0.6933, Val Acc: 0.5000\n"
     ]
    },
    {
     "name": "stderr",
     "output_type": "stream",
     "text": [
      "Epoch 12/50 [Train]: 100%|██████████| 32/32 [00:00<00:00, 44.64it/s]\n",
      "Epoch 12/50 [Val]: 100%|██████████| 32/32 [00:00<00:00, 118.99it/s]\n"
     ]
    },
    {
     "name": "stdout",
     "output_type": "stream",
     "text": [
      "Epoch 12/50, Train Loss: 0.7023, Train Acc: 0.4890, Val Loss: 0.6931, Val Acc: 0.5000\n"
     ]
    },
    {
     "name": "stderr",
     "output_type": "stream",
     "text": [
      "Epoch 13/50 [Train]: 100%|██████████| 32/32 [00:00<00:00, 43.33it/s]\n",
      "Epoch 13/50 [Val]: 100%|██████████| 32/32 [00:00<00:00, 117.12it/s]\n"
     ]
    },
    {
     "name": "stdout",
     "output_type": "stream",
     "text": [
      "Epoch 13/50, Train Loss: 0.6980, Train Acc: 0.5000, Val Loss: 0.6933, Val Acc: 0.5000\n"
     ]
    },
    {
     "name": "stderr",
     "output_type": "stream",
     "text": [
      "Epoch 14/50 [Train]: 100%|██████████| 32/32 [00:00<00:00, 44.70it/s]\n",
      "Epoch 14/50 [Val]: 100%|██████████| 32/32 [00:00<00:00, 119.37it/s]\n"
     ]
    },
    {
     "name": "stdout",
     "output_type": "stream",
     "text": [
      "Epoch 14/50, Train Loss: 0.7045, Train Acc: 0.4670, Val Loss: 0.6931, Val Acc: 0.5000\n"
     ]
    },
    {
     "name": "stderr",
     "output_type": "stream",
     "text": [
      "Epoch 15/50 [Train]: 100%|██████████| 32/32 [00:00<00:00, 42.35it/s]\n",
      "Epoch 15/50 [Val]: 100%|██████████| 32/32 [00:00<00:00, 119.03it/s]\n"
     ]
    },
    {
     "name": "stdout",
     "output_type": "stream",
     "text": [
      "Epoch 15/50, Train Loss: 0.6977, Train Acc: 0.4890, Val Loss: 0.6934, Val Acc: 0.5000\n"
     ]
    },
    {
     "name": "stderr",
     "output_type": "stream",
     "text": [
      "Epoch 16/50 [Train]: 100%|██████████| 32/32 [00:00<00:00, 43.08it/s]\n",
      "Epoch 16/50 [Val]: 100%|██████████| 32/32 [00:00<00:00, 120.09it/s]\n"
     ]
    },
    {
     "name": "stdout",
     "output_type": "stream",
     "text": [
      "Epoch 16/50, Train Loss: 0.6929, Train Acc: 0.5110, Val Loss: 0.6931, Val Acc: 0.5000\n"
     ]
    },
    {
     "name": "stderr",
     "output_type": "stream",
     "text": [
      "Epoch 17/50 [Train]: 100%|██████████| 32/32 [00:00<00:00, 45.44it/s]\n",
      "Epoch 17/50 [Val]: 100%|██████████| 32/32 [00:00<00:00, 118.11it/s]\n"
     ]
    },
    {
     "name": "stdout",
     "output_type": "stream",
     "text": [
      "Epoch 17/50, Train Loss: 0.7019, Train Acc: 0.4810, Val Loss: 0.6932, Val Acc: 0.5000\n"
     ]
    },
    {
     "name": "stderr",
     "output_type": "stream",
     "text": [
      "Epoch 18/50 [Train]: 100%|██████████| 32/32 [00:00<00:00, 45.42it/s]\n",
      "Epoch 18/50 [Val]: 100%|██████████| 32/32 [00:00<00:00, 115.83it/s]\n"
     ]
    },
    {
     "name": "stdout",
     "output_type": "stream",
     "text": [
      "Epoch 18/50, Train Loss: 0.7014, Train Acc: 0.4890, Val Loss: 0.6932, Val Acc: 0.5000\n"
     ]
    },
    {
     "name": "stderr",
     "output_type": "stream",
     "text": [
      "Epoch 19/50 [Train]: 100%|██████████| 32/32 [00:00<00:00, 44.66it/s]\n",
      "Epoch 19/50 [Val]: 100%|██████████| 32/32 [00:00<00:00, 118.25it/s]\n"
     ]
    },
    {
     "name": "stdout",
     "output_type": "stream",
     "text": [
      "Epoch 19/50, Train Loss: 0.6934, Train Acc: 0.5220, Val Loss: 0.6931, Val Acc: 0.5000\n"
     ]
    },
    {
     "name": "stderr",
     "output_type": "stream",
     "text": [
      "Epoch 20/50 [Train]: 100%|██████████| 32/32 [00:00<00:00, 45.30it/s]\n",
      "Epoch 20/50 [Val]: 100%|██████████| 32/32 [00:00<00:00, 114.62it/s]\n"
     ]
    },
    {
     "name": "stdout",
     "output_type": "stream",
     "text": [
      "Epoch 20/50, Train Loss: 0.6989, Train Acc: 0.4990, Val Loss: 0.6936, Val Acc: 0.5000\n"
     ]
    },
    {
     "name": "stderr",
     "output_type": "stream",
     "text": [
      "Epoch 21/50 [Train]: 100%|██████████| 32/32 [00:00<00:00, 43.21it/s]\n",
      "Epoch 21/50 [Val]: 100%|██████████| 32/32 [00:00<00:00, 115.22it/s]\n"
     ]
    },
    {
     "name": "stdout",
     "output_type": "stream",
     "text": [
      "Epoch 21/50, Train Loss: 0.7035, Train Acc: 0.4910, Val Loss: 0.6931, Val Acc: 0.5000\n"
     ]
    },
    {
     "name": "stderr",
     "output_type": "stream",
     "text": [
      "Epoch 22/50 [Train]: 100%|██████████| 32/32 [00:00<00:00, 44.20it/s]\n",
      "Epoch 22/50 [Val]: 100%|██████████| 32/32 [00:00<00:00, 117.54it/s]\n"
     ]
    },
    {
     "name": "stdout",
     "output_type": "stream",
     "text": [
      "Epoch 22/50, Train Loss: 0.6953, Train Acc: 0.5190, Val Loss: 0.6931, Val Acc: 0.5000\n"
     ]
    },
    {
     "name": "stderr",
     "output_type": "stream",
     "text": [
      "Epoch 23/50 [Train]: 100%|██████████| 32/32 [00:00<00:00, 45.98it/s]\n",
      "Epoch 23/50 [Val]: 100%|██████████| 32/32 [00:00<00:00, 115.66it/s]\n"
     ]
    },
    {
     "name": "stdout",
     "output_type": "stream",
     "text": [
      "Epoch 23/50, Train Loss: 0.7007, Train Acc: 0.4840, Val Loss: 0.6934, Val Acc: 0.5000\n"
     ]
    },
    {
     "name": "stderr",
     "output_type": "stream",
     "text": [
      "Epoch 24/50 [Train]: 100%|██████████| 32/32 [00:00<00:00, 44.85it/s]\n",
      "Epoch 24/50 [Val]: 100%|██████████| 32/32 [00:00<00:00, 120.42it/s]\n"
     ]
    },
    {
     "name": "stdout",
     "output_type": "stream",
     "text": [
      "Epoch 24/50, Train Loss: 0.6949, Train Acc: 0.4990, Val Loss: 0.6931, Val Acc: 0.5000\n"
     ]
    },
    {
     "name": "stderr",
     "output_type": "stream",
     "text": [
      "Epoch 25/50 [Train]: 100%|██████████| 32/32 [00:00<00:00, 44.54it/s]\n",
      "Epoch 25/50 [Val]: 100%|██████████| 32/32 [00:00<00:00, 118.38it/s]\n"
     ]
    },
    {
     "name": "stdout",
     "output_type": "stream",
     "text": [
      "Epoch 25/50, Train Loss: 0.6984, Train Acc: 0.5010, Val Loss: 0.6932, Val Acc: 0.5000\n"
     ]
    },
    {
     "name": "stderr",
     "output_type": "stream",
     "text": [
      "Epoch 26/50 [Train]: 100%|██████████| 32/32 [00:00<00:00, 45.01it/s]\n",
      "Epoch 26/50 [Val]: 100%|██████████| 32/32 [00:00<00:00, 116.43it/s]\n"
     ]
    },
    {
     "name": "stdout",
     "output_type": "stream",
     "text": [
      "Epoch 26/50, Train Loss: 0.6993, Train Acc: 0.4900, Val Loss: 0.6934, Val Acc: 0.5000\n"
     ]
    },
    {
     "name": "stderr",
     "output_type": "stream",
     "text": [
      "Epoch 27/50 [Train]: 100%|██████████| 32/32 [00:00<00:00, 45.55it/s]\n",
      "Epoch 27/50 [Val]: 100%|██████████| 32/32 [00:00<00:00, 116.71it/s]\n"
     ]
    },
    {
     "name": "stdout",
     "output_type": "stream",
     "text": [
      "Epoch 27/50, Train Loss: 0.7032, Train Acc: 0.4890, Val Loss: 0.6931, Val Acc: 0.5000\n"
     ]
    },
    {
     "name": "stderr",
     "output_type": "stream",
     "text": [
      "Epoch 28/50 [Train]: 100%|██████████| 32/32 [00:00<00:00, 45.32it/s]\n",
      "Epoch 28/50 [Val]: 100%|██████████| 32/32 [00:00<00:00, 120.39it/s]\n"
     ]
    },
    {
     "name": "stdout",
     "output_type": "stream",
     "text": [
      "Epoch 28/50, Train Loss: 0.6982, Train Acc: 0.4720, Val Loss: 0.6931, Val Acc: 0.5000\n"
     ]
    },
    {
     "name": "stderr",
     "output_type": "stream",
     "text": [
      "Epoch 29/50 [Train]: 100%|██████████| 32/32 [00:00<00:00, 44.59it/s]\n",
      "Epoch 29/50 [Val]: 100%|██████████| 32/32 [00:00<00:00, 106.93it/s]\n"
     ]
    },
    {
     "name": "stdout",
     "output_type": "stream",
     "text": [
      "Epoch 29/50, Train Loss: 0.6948, Train Acc: 0.5190, Val Loss: 0.6931, Val Acc: 0.5000\n"
     ]
    },
    {
     "name": "stderr",
     "output_type": "stream",
     "text": [
      "Epoch 30/50 [Train]: 100%|██████████| 32/32 [00:00<00:00, 44.36it/s]\n",
      "Epoch 30/50 [Val]: 100%|██████████| 32/32 [00:00<00:00, 118.39it/s]\n"
     ]
    },
    {
     "name": "stdout",
     "output_type": "stream",
     "text": [
      "Epoch 30/50, Train Loss: 0.6939, Train Acc: 0.4970, Val Loss: 0.6932, Val Acc: 0.5000\n"
     ]
    },
    {
     "name": "stderr",
     "output_type": "stream",
     "text": [
      "Epoch 31/50 [Train]: 100%|██████████| 32/32 [00:00<00:00, 44.42it/s]\n",
      "Epoch 31/50 [Val]: 100%|██████████| 32/32 [00:00<00:00, 117.43it/s]\n"
     ]
    },
    {
     "name": "stdout",
     "output_type": "stream",
     "text": [
      "Epoch 31/50, Train Loss: 0.6985, Train Acc: 0.4920, Val Loss: 0.6931, Val Acc: 0.5000\n"
     ]
    },
    {
     "name": "stderr",
     "output_type": "stream",
     "text": [
      "Epoch 32/50 [Train]: 100%|██████████| 32/32 [00:00<00:00, 45.43it/s]\n",
      "Epoch 32/50 [Val]: 100%|██████████| 32/32 [00:00<00:00, 120.89it/s]\n"
     ]
    },
    {
     "name": "stdout",
     "output_type": "stream",
     "text": [
      "Epoch 32/50, Train Loss: 0.6949, Train Acc: 0.5100, Val Loss: 0.6932, Val Acc: 0.5000\n"
     ]
    },
    {
     "name": "stderr",
     "output_type": "stream",
     "text": [
      "Epoch 33/50 [Train]: 100%|██████████| 32/32 [00:00<00:00, 45.23it/s]\n",
      "Epoch 33/50 [Val]: 100%|██████████| 32/32 [00:00<00:00, 118.04it/s]\n"
     ]
    },
    {
     "name": "stdout",
     "output_type": "stream",
     "text": [
      "Epoch 33/50, Train Loss: 0.7000, Train Acc: 0.4850, Val Loss: 0.6932, Val Acc: 0.5000\n"
     ]
    },
    {
     "name": "stderr",
     "output_type": "stream",
     "text": [
      "Epoch 34/50 [Train]: 100%|██████████| 32/32 [00:00<00:00, 45.43it/s]\n",
      "Epoch 34/50 [Val]: 100%|██████████| 32/32 [00:00<00:00, 121.02it/s]\n"
     ]
    },
    {
     "name": "stdout",
     "output_type": "stream",
     "text": [
      "Epoch 34/50, Train Loss: 0.6970, Train Acc: 0.4940, Val Loss: 0.6931, Val Acc: 0.5000\n"
     ]
    },
    {
     "name": "stderr",
     "output_type": "stream",
     "text": [
      "Epoch 35/50 [Train]: 100%|██████████| 32/32 [00:00<00:00, 45.26it/s]\n",
      "Epoch 35/50 [Val]: 100%|██████████| 32/32 [00:00<00:00, 120.97it/s]\n"
     ]
    },
    {
     "name": "stdout",
     "output_type": "stream",
     "text": [
      "Epoch 35/50, Train Loss: 0.6947, Train Acc: 0.4990, Val Loss: 0.6932, Val Acc: 0.5000\n"
     ]
    },
    {
     "name": "stderr",
     "output_type": "stream",
     "text": [
      "Epoch 36/50 [Train]: 100%|██████████| 32/32 [00:00<00:00, 45.15it/s]\n",
      "Epoch 36/50 [Val]: 100%|██████████| 32/32 [00:00<00:00, 121.21it/s]\n"
     ]
    },
    {
     "name": "stdout",
     "output_type": "stream",
     "text": [
      "Epoch 36/50, Train Loss: 0.6960, Train Acc: 0.5040, Val Loss: 0.6933, Val Acc: 0.5000\n"
     ]
    },
    {
     "name": "stderr",
     "output_type": "stream",
     "text": [
      "Epoch 37/50 [Train]: 100%|██████████| 32/32 [00:00<00:00, 43.56it/s]\n",
      "Epoch 37/50 [Val]: 100%|██████████| 32/32 [00:00<00:00, 110.73it/s]\n"
     ]
    },
    {
     "name": "stdout",
     "output_type": "stream",
     "text": [
      "Epoch 37/50, Train Loss: 0.6932, Train Acc: 0.5110, Val Loss: 0.6934, Val Acc: 0.5000\n"
     ]
    },
    {
     "name": "stderr",
     "output_type": "stream",
     "text": [
      "Epoch 38/50 [Train]: 100%|██████████| 32/32 [00:00<00:00, 42.93it/s]\n",
      "Epoch 38/50 [Val]: 100%|██████████| 32/32 [00:00<00:00, 120.66it/s]\n"
     ]
    },
    {
     "name": "stdout",
     "output_type": "stream",
     "text": [
      "Epoch 38/50, Train Loss: 0.7010, Train Acc: 0.4840, Val Loss: 0.6932, Val Acc: 0.5000\n"
     ]
    },
    {
     "name": "stderr",
     "output_type": "stream",
     "text": [
      "Epoch 39/50 [Train]: 100%|██████████| 32/32 [00:00<00:00, 44.84it/s]\n",
      "Epoch 39/50 [Val]: 100%|██████████| 32/32 [00:00<00:00, 119.84it/s]\n"
     ]
    },
    {
     "name": "stdout",
     "output_type": "stream",
     "text": [
      "Epoch 39/50, Train Loss: 0.6984, Train Acc: 0.4980, Val Loss: 0.6932, Val Acc: 0.5000\n"
     ]
    },
    {
     "name": "stderr",
     "output_type": "stream",
     "text": [
      "Epoch 40/50 [Train]: 100%|██████████| 32/32 [00:00<00:00, 45.18it/s]\n",
      "Epoch 40/50 [Val]: 100%|██████████| 32/32 [00:00<00:00, 120.13it/s]\n"
     ]
    },
    {
     "name": "stdout",
     "output_type": "stream",
     "text": [
      "Epoch 40/50, Train Loss: 0.6974, Train Acc: 0.5110, Val Loss: 0.6932, Val Acc: 0.5000\n"
     ]
    },
    {
     "name": "stderr",
     "output_type": "stream",
     "text": [
      "Epoch 41/50 [Train]: 100%|██████████| 32/32 [00:00<00:00, 45.47it/s]\n",
      "Epoch 41/50 [Val]: 100%|██████████| 32/32 [00:00<00:00, 119.64it/s]\n"
     ]
    },
    {
     "name": "stdout",
     "output_type": "stream",
     "text": [
      "Epoch 41/50, Train Loss: 0.6972, Train Acc: 0.5020, Val Loss: 0.6932, Val Acc: 0.5000\n"
     ]
    },
    {
     "name": "stderr",
     "output_type": "stream",
     "text": [
      "Epoch 42/50 [Train]: 100%|██████████| 32/32 [00:00<00:00, 44.95it/s]\n",
      "Epoch 42/50 [Val]: 100%|██████████| 32/32 [00:00<00:00, 118.18it/s]\n"
     ]
    },
    {
     "name": "stdout",
     "output_type": "stream",
     "text": [
      "Epoch 42/50, Train Loss: 0.6990, Train Acc: 0.4630, Val Loss: 0.6931, Val Acc: 0.5000\n"
     ]
    },
    {
     "name": "stderr",
     "output_type": "stream",
     "text": [
      "Epoch 43/50 [Train]: 100%|██████████| 32/32 [00:00<00:00, 44.68it/s]\n",
      "Epoch 43/50 [Val]: 100%|██████████| 32/32 [00:00<00:00, 117.24it/s]\n"
     ]
    },
    {
     "name": "stdout",
     "output_type": "stream",
     "text": [
      "Epoch 43/50, Train Loss: 0.6987, Train Acc: 0.4850, Val Loss: 0.6931, Val Acc: 0.5000\n"
     ]
    },
    {
     "name": "stderr",
     "output_type": "stream",
     "text": [
      "Epoch 44/50 [Train]: 100%|██████████| 32/32 [00:00<00:00, 44.50it/s]\n",
      "Epoch 44/50 [Val]: 100%|██████████| 32/32 [00:00<00:00, 119.60it/s]\n"
     ]
    },
    {
     "name": "stdout",
     "output_type": "stream",
     "text": [
      "Epoch 44/50, Train Loss: 0.6914, Train Acc: 0.5480, Val Loss: 0.6936, Val Acc: 0.5000\n"
     ]
    },
    {
     "name": "stderr",
     "output_type": "stream",
     "text": [
      "Epoch 45/50 [Train]: 100%|██████████| 32/32 [00:00<00:00, 45.17it/s]\n",
      "Epoch 45/50 [Val]: 100%|██████████| 32/32 [00:00<00:00, 119.82it/s]\n"
     ]
    },
    {
     "name": "stdout",
     "output_type": "stream",
     "text": [
      "Epoch 45/50, Train Loss: 0.6950, Train Acc: 0.5000, Val Loss: 0.6932, Val Acc: 0.5000\n"
     ]
    },
    {
     "name": "stderr",
     "output_type": "stream",
     "text": [
      "Epoch 46/50 [Train]: 100%|██████████| 32/32 [00:00<00:00, 44.87it/s]\n",
      "Epoch 46/50 [Val]: 100%|██████████| 32/32 [00:00<00:00, 119.99it/s]\n"
     ]
    },
    {
     "name": "stdout",
     "output_type": "stream",
     "text": [
      "Epoch 46/50, Train Loss: 0.6981, Train Acc: 0.4760, Val Loss: 0.6933, Val Acc: 0.5000\n"
     ]
    },
    {
     "name": "stderr",
     "output_type": "stream",
     "text": [
      "Epoch 47/50 [Train]: 100%|██████████| 32/32 [00:00<00:00, 44.57it/s]\n",
      "Epoch 47/50 [Val]: 100%|██████████| 32/32 [00:00<00:00, 121.38it/s]\n"
     ]
    },
    {
     "name": "stdout",
     "output_type": "stream",
     "text": [
      "Epoch 47/50, Train Loss: 0.6962, Train Acc: 0.5090, Val Loss: 0.6931, Val Acc: 0.5000\n"
     ]
    },
    {
     "name": "stderr",
     "output_type": "stream",
     "text": [
      "Epoch 48/50 [Train]: 100%|██████████| 32/32 [00:00<00:00, 44.60it/s]\n",
      "Epoch 48/50 [Val]: 100%|██████████| 32/32 [00:00<00:00, 121.12it/s]\n"
     ]
    },
    {
     "name": "stdout",
     "output_type": "stream",
     "text": [
      "Epoch 48/50, Train Loss: 0.6963, Train Acc: 0.5120, Val Loss: 0.6931, Val Acc: 0.5000\n"
     ]
    },
    {
     "name": "stderr",
     "output_type": "stream",
     "text": [
      "Epoch 49/50 [Train]: 100%|██████████| 32/32 [00:00<00:00, 45.48it/s]\n",
      "Epoch 49/50 [Val]: 100%|██████████| 32/32 [00:00<00:00, 120.25it/s]\n"
     ]
    },
    {
     "name": "stdout",
     "output_type": "stream",
     "text": [
      "Epoch 49/50, Train Loss: 0.6953, Train Acc: 0.5110, Val Loss: 0.6933, Val Acc: 0.5000\n"
     ]
    },
    {
     "name": "stderr",
     "output_type": "stream",
     "text": [
      "Epoch 50/50 [Train]: 100%|██████████| 32/32 [00:00<00:00, 45.18it/s]\n",
      "Epoch 50/50 [Val]: 100%|██████████| 32/32 [00:00<00:00, 107.92it/s]\n"
     ]
    },
    {
     "name": "stdout",
     "output_type": "stream",
     "text": [
      "Epoch 50/50, Train Loss: 0.6965, Train Acc: 0.4970, Val Loss: 0.6932, Val Acc: 0.5000\n"
     ]
    }
   ],
   "source": [
    "history = {\"train_loss\": [], \"val_loss\": [], \"train_acc\": [], \"val_acc\": []}\n",
    "\n",
    "for epoch in range(EPOCHS):\n",
    "    # Training phase\n",
    "    vit_model.train()\n",
    "    train_loss = 0.0\n",
    "    correct_train = 0\n",
    "    total_train = 0\n",
    "\n",
    "    for images, labels in tqdm(data_loader, desc=f\"Epoch {epoch+1}/{EPOCHS} [Train]\"):\n",
    "        images, labels = images.to(device), labels.to(device)\n",
    "        images = images.permute(0, 3, 1, 2)  # Ensure correct shape for model input\n",
    "\n",
    "        OPTIMIZER.zero_grad()  # Clear gradients\n",
    "        outputs = vit_model(images)  # Forward pass\n",
    "\n",
    "        # Compute loss\n",
    "        loss = LOSS_FUNCTION(outputs, labels)\n",
    "        loss.backward()  # Backpropagation\n",
    "        OPTIMIZER.step()  # Update weights\n",
    "\n",
    "        # Update training metrics\n",
    "        train_loss += loss.item()\n",
    "        correct_train += (outputs.argmax(dim=1) == labels.argmax(dim=1)).sum().item()\n",
    "        total_train += labels.size(0)\n",
    "\n",
    "    train_loss /= len(data_loader)\n",
    "    train_acc = correct_train / total_train\n",
    "    history[\"train_loss\"].append(train_loss)\n",
    "    history[\"train_acc\"].append(train_acc)\n",
    "\n",
    "    # Validation phase\n",
    "    vit_model.eval()\n",
    "    val_loss = 0.0\n",
    "    correct_val = 0\n",
    "    total_val = 0\n",
    "\n",
    "    with torch.no_grad():\n",
    "        for images, labels in tqdm(val_data_loader, desc=f\"Epoch {epoch+1}/{EPOCHS} [Val]\"):\n",
    "            images, labels = images.to(device), labels.to(device)\n",
    "            images = images.permute(0, 3, 1, 2)\n",
    "\n",
    "            outputs = vit_model(images)\n",
    "\n",
    "            # Compute loss\n",
    "            loss = LOSS_FUNCTION(outputs, labels)\n",
    "            val_loss += loss.item()\n",
    "\n",
    "            # Update validation metrics\n",
    "            correct_val += (outputs.argmax(dim=1) == labels.argmax(dim=1)).sum().item()\n",
    "            total_val += labels.size(0)\n",
    "\n",
    "    val_loss /= len(val_data_loader)\n",
    "    val_acc = correct_val / total_val\n",
    "    history[\"val_loss\"].append(val_loss)\n",
    "    history[\"val_acc\"].append(val_acc)\n",
    "\n",
    "    # Print epoch summary\n",
    "    print(f\"Epoch {epoch+1}/{EPOCHS}, Train Loss: {train_loss:.4f}, Train Acc: {train_acc:.4f}, \"\n",
    "          f\"Val Loss: {val_loss:.4f}, Val Acc: {val_acc:.4f}\")"
   ]
  },
  {
   "cell_type": "markdown",
   "id": "62b8da8e-be4a-4542-8489-6b3a0d16ce9c",
   "metadata": {},
   "source": [
    "accuarcy = 54.8\n",
    "loss = 69.14"
   ]
  },
  {
   "cell_type": "code",
   "execution_count": 60,
   "id": "999cae9a-69ca-4be0-b634-9506d1f5c417",
   "metadata": {},
   "outputs": [],
   "source": [
    "import pandas as pd\n",
    "import matplotlib.pyplot as plt\n",
    "import seaborn as sns"
   ]
  },
  {
   "cell_type": "code",
   "execution_count": 47,
   "id": "3ad8d680-939f-4104-9765-e2a52797da8e",
   "metadata": {},
   "outputs": [],
   "source": [
    "df = pd.DataFrame(history)\n",
    "df[\"Epochs\"] = np.arange(1,51)\n",
    "df.to_csv(\"History/scratch_vit_history.csv\")"
   ]
  },
  {
   "cell_type": "code",
   "execution_count": 49,
   "id": "3bef1b05-9170-47ad-b74b-e2f641b6850a",
   "metadata": {},
   "outputs": [
    {
     "data": {
      "text/plain": [
       "0.548"
      ]
     },
     "execution_count": 49,
     "metadata": {},
     "output_type": "execute_result"
    }
   ],
   "source": [
    "df[\"train_acc\"].max()"
   ]
  },
  {
   "cell_type": "code",
   "execution_count": 51,
   "id": "32355ec2-e3ff-4632-a605-0ac81d84463e",
   "metadata": {},
   "outputs": [
    {
     "data": {
      "text/plain": [
       "0.6914036143571138"
      ]
     },
     "execution_count": 51,
     "metadata": {},
     "output_type": "execute_result"
    }
   ],
   "source": [
    "df[\"train_loss\"].min()"
   ]
  },
  {
   "cell_type": "code",
   "execution_count": 56,
   "id": "ee9eaa1e-287b-4af7-8cce-b469c7203247",
   "metadata": {},
   "outputs": [],
   "source": [
    "torch.save(vit_model, \"ViT Model Pytorch.pth\")"
   ]
  },
  {
   "cell_type": "code",
   "execution_count": 62,
   "id": "a049e155-05ea-4f66-b696-f380efc515e6",
   "metadata": {},
   "outputs": [
    {
     "data": {
      "image/png": "[encoded data removed]",
      "text/plain": [
       "<Figure size 640x480 with 1 Axes>"
      ]
     },
     "metadata": {},
     "output_type": "display_data"
    }
   ],
   "source": [
    "sns.lineplot(x = df[\"Epochs\"],y = df[\"train_acc\"])\n",
    "plt.ylabel(\"Accuacy\")\n",
    "plt.show()"
   ]
  },
  {
   "cell_type": "code",
   "execution_count": 64,
   "id": "708f1de8-fefe-4071-b361-d3d66c528460",
   "metadata": {},
   "outputs": [
    {
     "data": {
      "image/png": "[encoded data removed]",
      "text/plain": [
       "<Figure size 640x480 with 1 Axes>"
      ]
     },
     "metadata": {},
     "output_type": "display_data"
    }
   ],
   "source": [
    "sns.lineplot(x = df[\"Epochs\"],y = df[\"train_loss\"])\n",
    "plt.ylabel(\"Loss\")\n",
    "plt.show()"
   ]
  }
 ],
 "metadata": {
  "kernelspec": {
   "display_name": "Python 3 (ipykernel)",
   "language": "python",
   "name": "python3"
  },
  "language_info": {
   "codemirror_mode": {
    "name": "ipython",
    "version": 3
   },
   "file_extension": ".py",
   "mimetype": "text/x-python",
   "name": "python",
   "nbconvert_exporter": "python",
   "pygments_lexer": "ipython3",
   "version": "3.12.4"
  }
 },
 "nbformat": 4,
 "nbformat_minor": 5
}
